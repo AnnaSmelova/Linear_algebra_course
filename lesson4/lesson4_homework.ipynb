{
 "cells": [
  {
   "cell_type": "markdown",
   "metadata": {},
   "source": [
    "**Автор: Анна Смелова**"
   ]
  },
  {
   "cell_type": "code",
   "execution_count": 1,
   "metadata": {},
   "outputs": [],
   "source": [
    "import numpy as np\n",
    "import copy"
   ]
  },
  {
   "cell_type": "markdown",
   "metadata": {},
   "source": [
    "## Решение домашнего задания к уроку 6 “Системы линейных уравнений. Часть 1”"
   ]
  },
  {
   "cell_type": "markdown",
   "metadata": {},
   "source": [
    "### 1. Задача\n",
    "#### Решить систему уравнений методом Гаусса:\n",
    "$$\\begin{cases}\n",
    "x_{1}+x_{2}-x_{3}-2x_{4}=0, \\\\\n",
    "2x_{1}+x_{2}-x_{3}+x_{4}=-2, \\\\\n",
    "x_{1}+x_{2}-3x_{3}+x_{4}=4.\n",
    "\\end{cases}$$"
   ]
  },
  {
   "cell_type": "markdown",
   "metadata": {},
   "source": [
    "**<font color='darkblue'>Решение:</font>**<br>\n",
    "Преобразуем расширенную матрицу:<br>\n",
    "$\\begin{pmatrix}\n",
    "\\left.\\begin{matrix}\n",
    "1 & 1 & -1 & -2 \\\\ \n",
    "2 & 1 & -1 & 1 \\\\ \n",
    "1 & 1 & -3 & 1\n",
    "\\end{matrix}\\right|\n",
    "\\begin{matrix}\n",
    "0\\\\ \n",
    "-2\\\\\n",
    "4\n",
    "\\end{matrix}\n",
    "\\end{pmatrix} \\rightarrow \\begin{pmatrix}\n",
    "\\left.\\begin{matrix}\n",
    "1 & 1 & -1 & -2 \\\\ \n",
    "0 & -1 & 1 & 5 \\\\ \n",
    "0 & 0 & -2 & 3\n",
    "\\end{matrix}\\right|\n",
    "\\begin{matrix}\n",
    "0\\\\ \n",
    "-2\\\\\n",
    "4\n",
    "\\end{matrix}\n",
    "\\end{pmatrix} \\rightarrow \\begin{pmatrix}\n",
    "\\left.\\begin{matrix}\n",
    "1 & 1 & -1 & -2 \\\\ \n",
    "0 & 1 & -1 & -5 \\\\ \n",
    "0 & 0 & 1 & -\\frac{3}{2}\n",
    "\\end{matrix}\\right|\n",
    "\\begin{matrix}\n",
    "0\\\\ \n",
    "2\\\\\n",
    "-2\n",
    "\\end{matrix}\n",
    "\\end{pmatrix}$<br>\n",
    "Перейдем обратно к системе:<br>\n",
    "$\\begin{cases}\n",
    "x_3 = \\frac{3}{2}x_4 - 2, \\\\\n",
    "x_2 = x_3 + 5x_4 + 2, \\\\\n",
    "x_1 = -x_2 + x_3 +2x_4\n",
    "\\end{cases} \\Leftrightarrow \\begin{cases}\n",
    "x_3 = \\frac{3}{2}x_4 - 2, \\\\\n",
    "x_2 = \\frac{3}{2}x_4 + 5x_4, \\\\\n",
    "x_1 = -\\frac{13}{2}x_4 + \\frac{3}{2}x_4 - 2 + 2x_4\n",
    "\\end{cases} \\Leftrightarrow \\begin{cases}\n",
    "x_1 = -3x_4 - 2, \\\\\n",
    "x_2 = \\frac{13}{2}x_4, \\\\\n",
    "x_3 = \\frac{3}{2}x_4 - 2\n",
    "\\end{cases}$<br>\n",
    "Система имеет бесконечное множество решений. Запишем решение в общем виде:<br>\n",
    "Пусть $x_4=a, a\\in \\mathbb {R}$, тогда искомое решение: $x=(-3a-2,\\frac{13}{2}a,\\frac{3}{2}a-2,a)$.<br>\n",
    "Подставив общее решение в исходную систему, получим тождества:\n",
    "$\\begin{cases}\n",
    "-3a-2+\\frac{13}{2}a-\\frac{3}{2}a+2-2a=0,\\\\\n",
    "-6a-4+\\frac{13}{2}a-\\frac{3}{2}a+2+a=-2,\\\\\n",
    "-3a-2+\\frac{13}{2}a-\\frac{9}{2}a+6+a=4.\n",
    "\\end{cases}$."
   ]
  },
  {
   "cell_type": "markdown",
   "metadata": {},
   "source": [
    "### 2. Задача\n",
    "#### Проверить на совместность и выяснить, сколько решений будет иметь система линейных уравнений:\n",
    "   а) $\\begin{cases}\n",
    "3x_{1}-x_{2}+x_{3}=4, \\\\\n",
    "2x_{1}-5x_{2}-3x_{3}=-17, \\\\\n",
    "x_{1}+x_{2}-x_{3}=0;\n",
    "\\end{cases}$\n",
    "    \n",
    "   б) $\\begin{cases}\n",
    "2x_{1}-4x_{2}+6x_{3}=1, \\\\\n",
    "x_{1}-2x_{2}+3x_{3}=-2, \\\\\n",
    "3x_{1}-6x_{2}+9x_{3}=5;\n",
    "\\end{cases}$\n",
    "    \n",
    "   в) $\\begin{cases}\n",
    "x_{1}+2x_{2}+5x_{3}=4, \\\\\n",
    "3x_{1}+x_{2}-8x_{3}=-2. \n",
    "\\end{cases}$"
   ]
  },
  {
   "cell_type": "markdown",
   "metadata": {},
   "source": [
    "**<font color='darkblue'>Решение:</font>**<br>\n",
    "а) $\\begin{pmatrix}\n",
    "\\left.\\begin{matrix}\n",
    "3 & -1 & 1 \\\\ \n",
    "2 & -5 & -3 \\\\ \n",
    "1 & 1 & -1\n",
    "\\end{matrix}\\right|\n",
    "\\begin{matrix}\n",
    "4\\\\ \n",
    "-17\\\\\n",
    "0\n",
    "\\end{matrix}\n",
    "\\end{pmatrix}$<br>\n",
    "Число уравнений равно числу неизвестных.<br><br>\n",
    "**...в случае, когда число уравнений равно числу неизвестных и матрица коэффициентов невырождена, если векторы столбцов коэффициентов  𝑎1,𝑎2,...,𝑎𝑛  линейно независимы, то такая система совместна, и ее решение единственно при любом векторе свободных членов  𝑏 ...**<br><br>\n",
    "Вычислим определитель и ранг матрицы $A$:"
   ]
  },
  {
   "cell_type": "code",
   "execution_count": 2,
   "metadata": {},
   "outputs": [
    {
     "name": "stdout",
     "output_type": "stream",
     "text": [
      "Матрица A:\n",
      " [[ 3 -1  1]\n",
      " [ 2 -5 -3]\n",
      " [ 1  1 -1]]\n",
      "Определитель A:\n",
      " 32\n",
      "Ранг матрицы A: 3\n"
     ]
    }
   ],
   "source": [
    "A = np.array([[3,-1,1], [2,-5,-3], [1,1,-1]])\n",
    "print(f'Матрица A:\\n {A}')\n",
    "print(f'Определитель A:\\n {np.linalg.det(A):.0f}')\n",
    "print(f'Ранг матрицы A: {np.linalg.matrix_rank(A)}')"
   ]
  },
  {
   "cell_type": "markdown",
   "metadata": {},
   "source": [
    "Определитель матрицы коэффициентов $31\\neq0$, значит матрица невырождена. Ранг матрицы равен 3, значит векторы столбцов коэффициентов линейно независимы. Следовательно, исследуемая система уравнений **совместна** и имеет **единственное решение**.<br><br>\n",
    "б) $\\begin{pmatrix}\n",
    "\\left.\\begin{matrix}\n",
    "2 & -4 & 6 \\\\ \n",
    "1 & -2 & 3 \\\\ \n",
    "3 & -6 & 9\n",
    "\\end{matrix}\\right|\n",
    "\\begin{matrix}\n",
    "1\\\\ \n",
    "-2\\\\\n",
    "5\n",
    "\\end{matrix}\n",
    "\\end{pmatrix}$<br>\n",
    "Число уравнений равно числу неизвестных.<br>\n",
    "При этом векторы коэффициентов линейно зависимы, и вектор свободных членов не принадлежит одномерному подпространству, которое они образуют. Решим систему уравнений методом Гаусса:<br>\n",
    "$\\begin{pmatrix}\n",
    "\\left.\\begin{matrix}\n",
    "2 & -4 & 6 \\\\ \n",
    "1 & -2 & 3 \\\\ \n",
    "3 & -6 & 9\n",
    "\\end{matrix}\\right|\n",
    "\\begin{matrix}\n",
    "1\\\\ \n",
    "-2\\\\\n",
    "5\n",
    "\\end{matrix}\n",
    "\\end{pmatrix} \\rightarrow \\begin{pmatrix}\n",
    "\\left.\\begin{matrix}\n",
    "1 & -2 & 3 \\\\ \n",
    "0 & 0 & 0 \\\\ \n",
    "0 & 0 & 0\n",
    "\\end{matrix}\\right|\n",
    "\\begin{matrix}\n",
    "-2\\\\ \n",
    "5\\\\\n",
    "11\n",
    "\\end{matrix}\n",
    "\\end{pmatrix}$<br>\n",
    "Следовательно, данная система **несовместна**.<br><br>\n",
    "в) $\\begin{pmatrix}\n",
    "\\left.\\begin{matrix}\n",
    "1 & 2 & 5 \\\\ \n",
    "3 & 1 & -8 \n",
    "\\end{matrix}\\right|\n",
    "\\begin{matrix}\n",
    "4\\\\ \n",
    "-2\n",
    "\\end{matrix}\n",
    "\\end{pmatrix}$<br>\n",
    "Число уравнений меньше числа неизвестных.<br>\n",
    "$\\begin{pmatrix}\n",
    "\\left.\\begin{matrix}\n",
    "1 & 2 & 5 \\\\ \n",
    "3 & 1 & -8 \n",
    "\\end{matrix}\\right|\n",
    "\\begin{matrix}\n",
    "4\\\\ \n",
    "-2\n",
    "\\end{matrix}\n",
    "\\end{pmatrix} \\rightarrow \\begin{pmatrix}\n",
    "\\left.\\begin{matrix}\n",
    "1 & 2 & 5 \\\\ \n",
    "0 & 5 & 23 \n",
    "\\end{matrix}\\right|\n",
    "\\begin{matrix}\n",
    "4\\\\ \n",
    "14\n",
    "\\end{matrix}\n",
    "\\end{pmatrix} \\Rightarrow \\begin{cases}\n",
    "x_2 = \\frac{14-23x_3}{5}, \\\\\n",
    "x_1 = 4-5x_3-2x_2, \n",
    "\\end{cases} \\Leftrightarrow \\begin{cases}\n",
    "x_2 = \\frac{14-23x_3}{5}, \\\\\n",
    "x_1 = \\frac{-8+21x_3}{5}, \n",
    "\\end{cases}$<br>\n",
    "Система **совместна** и имеет **бесконечное множество решений**. Запишем решение в общем виде:<br>\n",
    "Пусть $x_3=a, a\\in \\mathbb {R}$, тогда искомое решение: $x=(\\frac{21a-8}{5},\\frac{14-23a}{5},a)$."
   ]
  },
  {
   "cell_type": "markdown",
   "metadata": {},
   "source": [
    "### 3. Задача\n",
    "#### Проверить на совместность и выяснить, сколько решений будет иметь система линейных уравнений, заданная расширенной матрицей\n",
    "$$\\tilde{A}=\\begin{pmatrix}\n",
    "\\left.\\begin{matrix}\n",
    "1 & 3 & -2 & 4\\\\ \n",
    "0 & 5 & 0 & 1\\\\ \n",
    "0 & 0 & 3 & 0\\\\ \n",
    "0 & 0 & 0 & 2\n",
    "\\end{matrix}\\right|\n",
    "\\begin{matrix}\n",
    "3\\\\ \n",
    "2\\\\\n",
    "4\\\\\n",
    "1\n",
    "\\end{matrix}\n",
    "\\end{pmatrix}.$$"
   ]
  },
  {
   "cell_type": "markdown",
   "metadata": {},
   "source": [
    "**<font color='darkblue'>Решение:</font>**<br>\n",
    "Число уравнений равно числу неизвестных.<br>\n",
    "Так как ранг матрицы коэффициентов и ранг расширенной матрицы равны между собой и равны 4, т.е. числу неизвестных, следовательно, данная система линейных уравнений **совместна и определена**(имеет единственное решение)."
   ]
  },
  {
   "cell_type": "code",
   "execution_count": 3,
   "metadata": {},
   "outputs": [
    {
     "name": "stdout",
     "output_type": "stream",
     "text": [
      "Матрица A:\n",
      " [[ 1  3 -2  4]\n",
      " [ 0  5  0  1]\n",
      " [ 0  0  3  0]\n",
      " [ 0  0  0  2]]\n",
      "Расширенная матрица A_:\n",
      " [[ 1  3 -2  4  3]\n",
      " [ 0  5  0  1  2]\n",
      " [ 0  0  3  0  4]\n",
      " [ 0  0  0  2  1]]\n",
      "Ранг матрицы A: 4\n",
      "Ранг матрицы расширенной A_: 4\n"
     ]
    }
   ],
   "source": [
    "A = np.array([[1,3,-2,4], [0,5,0,1], [0,0,3,0], [0,0,0,2]])\n",
    "print(f'Матрица A:\\n {A}')\n",
    "A_ = np.array([[1,3,-2,4,3], [0,5,0,1,2], [0,0,3,0,4], [0,0,0,2,1]])\n",
    "print(f'Расширенная матрица A_:\\n {A_}')\n",
    "print(f'Ранг матрицы A: {np.linalg.matrix_rank(A)}')\n",
    "print(f'Ранг матрицы расширенной A_: {np.linalg.matrix_rank(A_)}')"
   ]
  },
  {
   "cell_type": "code",
   "execution_count": 4,
   "metadata": {},
   "outputs": [
    {
     "name": "stdout",
     "output_type": "stream",
     "text": [
      "x=[2.76666667 0.3        1.33333333 0.5       ]\n"
     ]
    }
   ],
   "source": [
    "# Проверка\n",
    "b = np.array([3,2,4,1])\n",
    "print(f'x={np.linalg.solve(A,b)}')"
   ]
  },
  {
   "cell_type": "markdown",
   "metadata": {},
   "source": [
    "### 4. Задача\n",
    "#### Дана система линейных уравнений, заданная расширенной матрицей. Найти соотношение между параметрами $a$, $b$ и $c$, при которых система является несовместной.\n",
    "$$\\tilde{A}=\\begin{pmatrix}\n",
    "\\left.\\begin{matrix}\n",
    "1 & 2 & 3\\\\ \n",
    "4 & 5 & 6\\\\ \n",
    "7 & 8 & 9\n",
    "\\end{matrix}\\right|\n",
    "\\begin{matrix}\n",
    "a\\\\ \n",
    "b\\\\\n",
    "c\n",
    "\\end{matrix}\n",
    "\\end{pmatrix}.$$"
   ]
  },
  {
   "cell_type": "markdown",
   "metadata": {},
   "source": [
    "**<font color='darkblue'>Решение:</font>**<br><br>\n",
    "**...если $rankA<rank \\tilde A$, то система несовместна...**<br><br>"
   ]
  },
  {
   "cell_type": "code",
   "execution_count": 5,
   "metadata": {},
   "outputs": [
    {
     "name": "stdout",
     "output_type": "stream",
     "text": [
      "Матрица A:\n",
      " [[1 2 3]\n",
      " [4 5 6]\n",
      " [7 8 9]]\n",
      "Ранг матрицы A: 2\n"
     ]
    }
   ],
   "source": [
    "A = np.array([[1,2,3], [4,5,6], [7,8,9]])\n",
    "print(f'Матрица A:\\n {A}')\n",
    "print(f'Ранг матрицы A: {np.linalg.matrix_rank(A)}')"
   ]
  },
  {
   "cell_type": "markdown",
   "metadata": {},
   "source": [
    "Ранг матрицы коэффициентов равен 2, следовательно, чтобы система была несовместна, надо подобрать такие параметры $a$, $b$ и $c$, при которых ранг расширенной матрицы будет равен 3.<br>\n",
    "Преобразуем расширенную матрицу:<br>\n",
    "$\\begin{pmatrix}\n",
    "\\left.\\begin{matrix}\n",
    "1 & 2 & 3\\\\ \n",
    "4 & 5 & 6\\\\ \n",
    "7 & 8 & 9\n",
    "\\end{matrix}\\right|\n",
    "\\begin{matrix}\n",
    "a\\\\ \n",
    "b\\\\\n",
    "c\n",
    "\\end{matrix}\n",
    "\\end{pmatrix} \\rightarrow \\begin{pmatrix}\n",
    "\\left.\\begin{matrix}\n",
    "1 & 2 & 3\\\\ \n",
    "0 & -3 & -6\\\\ \n",
    "0 & -6 & -12\n",
    "\\end{matrix}\\right|\n",
    "\\begin{matrix}\n",
    "a\\\\ \n",
    "b-4a\\\\\n",
    "c-7a\n",
    "\\end{matrix}\n",
    "\\end{pmatrix} \\rightarrow \\begin{pmatrix}\n",
    "\\left.\\begin{matrix}\n",
    "1 & 2 & 3\\\\ \n",
    "0 & 1 & 2\\\\ \n",
    "0 & 1 & 2\n",
    "\\end{matrix}\\right|\n",
    "\\begin{matrix}\n",
    "a\\\\ \n",
    "\\frac{b-4a}{-3}\\\\\n",
    "\\frac{c-7a}{-6}\n",
    "\\end{matrix}\n",
    "\\end{pmatrix}$<br>\n",
    "Следовательно, искомое соотношение: $\\frac{b-4a}{-3}\\neq\\frac{c-7a}{-6} \\Leftrightarrow$<br> $$2b-c\\neq a$$\n",
    "Возьмем, например, $a=3,b=1,c=1$:"
   ]
  },
  {
   "cell_type": "code",
   "execution_count": 6,
   "metadata": {},
   "outputs": [
    {
     "name": "stdout",
     "output_type": "stream",
     "text": [
      "Расширенная матрица A_:\n",
      " [[1 2 3 3]\n",
      " [4 5 6 1]\n",
      " [7 8 9 1]]\n",
      "Ранг расширенной матрицы A_: 3\n"
     ]
    }
   ],
   "source": [
    "A_ = np.array([[1,2,3,3], [4,5,6,1], [7,8,9,1]])\n",
    "print(f'Расширенная матрица A_:\\n {A_}')\n",
    "print(f'Ранг расширенной матрицы A_: {np.linalg.matrix_rank(A_)}')"
   ]
  },
  {
   "cell_type": "markdown",
   "metadata": {},
   "source": [
    "## Решение домашнего задания к уроку 7 “Системы линейных уравнений. Часть 2”"
   ]
  },
  {
   "cell_type": "markdown",
   "metadata": {},
   "source": [
    "### 1. Задача\n",
    "#### Решить систему уравнений методом Крамера:\n",
    "а) $\\begin{cases}\n",
    "x_{1}-2x_{2}=1 \\\\\n",
    "3x_{1}-4x_{2}=7\n",
    "\\end{cases}$\n",
    "    \n",
    "   б) $\\begin{cases}\n",
    "2x_{1}-x_{2}+5x_{3}=10 \\\\\n",
    "x_{1}+x_{2}-3x_{3}=-2 \\\\\n",
    "2x_{1}+4x_{2}+x_{3}=1\n",
    "\\end{cases}$"
   ]
  },
  {
   "cell_type": "markdown",
   "metadata": {},
   "source": [
    "**<font color='darkblue'>Решение:</font>**<br>\n",
    "а) Количество уравнений совпадает с количеством неизвестных.<br>\n",
    "Найдем определитель матрицы коэффициентов:<br>\n",
    "$detA=\\begin{vmatrix}\n",
    "1 & -2\\\\ \n",
    "3 & -4 \n",
    "\\end{vmatrix}=\n",
    "-4+6=2\\neq 0,$\n",
    "следовательно, система совместна.<br>\n",
    "Найдем определители $detA_{1}$, $detA_{2}$:<br>\n",
    "$detA_{1}=\\begin{vmatrix}\n",
    "1 & -2\\\\ \n",
    "7 & -4\n",
    "\\end{vmatrix}=\n",
    "=-4+14=10,$<br>\n",
    "$detA_{2}=\\begin{vmatrix}\n",
    "1 & 1\\\\ \n",
    "3 & 7\n",
    "\\end{vmatrix}=\n",
    "=7-3=4$<br>\n",
    "Найдем решение по формулам Крамера:<br>\n",
    "$x_{1} = \\frac{detA_{1}}{detA} = \\frac{10}{2}=5,$<br>\n",
    "$x_{2} = \\frac{detA_{2}}{detA} = \\frac{4}{2}=2$<br>\n",
    "**Ответ: (5,2)**<br><br>\n",
    "б) Количество уравнений совпадает с количеством неизвестных.<br>\n",
    "Найдем определитель матрицы коэффициентов:<br>\n",
    "$detA=\\begin{vmatrix}\n",
    "2 & -1 & 5\\\\ \n",
    "1 & 1 & -3\\\\\n",
    "2 & 4 & 1\n",
    "\\end{vmatrix}=\n",
    "2+6+20-10+24+1=43\\neq 0,$\n",
    "следовательно, система совместна.<br>\n",
    "Найдем определители $detA_{1}$, $detA_{2}$, $detA_{3}$:<br>\n",
    "$detA_{1}=\\begin{vmatrix}\n",
    "10 & -1 & 5\\\\ \n",
    "-2 & 1 & -3\\\\\n",
    "1 & 4 & 1\n",
    "\\end{vmatrix}=\n",
    "=10-40+3-5+120-2=86,$<br>\n",
    "$detA_{2}=\\begin{vmatrix}\n",
    "2 & 10 & 5\\\\ \n",
    "1 & -2 & -3\\\\\n",
    "2 & 1 & 1\n",
    "\\end{vmatrix}=\n",
    "=-4+5-60+20+6-10=-43$<br>\n",
    "$detA_{3}=\\begin{vmatrix}\n",
    "2 & -1 & 10\\\\ \n",
    "1 & 1 & -2\\\\\n",
    "2 & 4 & 1\n",
    "\\end{vmatrix}=\n",
    "=2+40+4-20+16+1=43$<br>\n",
    "Найдем решение по формулам Крамера:<br>\n",
    "$x_{1} = \\frac{detA_{1}}{detA} = \\frac{86}{43}=2,$<br>\n",
    "$x_{2} = \\frac{detA_{2}}{detA} = \\frac{-43}{43}=-1$<br>\n",
    "$x_{3} = \\frac{detA_{3}}{detA} = \\frac{43}{43}=1$<br>\n",
    "**Ответ: (2,-1,1)**<br><br>"
   ]
  },
  {
   "cell_type": "code",
   "execution_count": 7,
   "metadata": {},
   "outputs": [
    {
     "name": "stdout",
     "output_type": "stream",
     "text": [
      "x_a=[5. 2.]\n",
      "x_b=[ 2. -1.  1.]\n"
     ]
    }
   ],
   "source": [
    "# Проверка - численное решение\n",
    "# а)\n",
    "A_a = np.array([[1,-2],[3,-4]])\n",
    "b_a = np.array([1,7])\n",
    "print(f'x_a={np.linalg.solve(A_a,b_a)}')\n",
    "# б)\n",
    "A_b = np.array([[2,-1,5],[1,1,-3],[2,4,1]])\n",
    "b_b = np.array([10,-2,1])\n",
    "print(f'x_b={np.linalg.solve(A_b,b_b)}')"
   ]
  },
  {
   "cell_type": "markdown",
   "metadata": {},
   "source": [
    "### 2*. Задача\n",
    "#### Найти $L$-матрицу $LU$-разложения для матрицы коэффициентов:\n",
    "а)$$\\begin{pmatrix}\n",
    "1 & 2 & 4 \\\\ \n",
    "2 & 9 & 12 \\\\ \n",
    "3 & 26 & 30\n",
    "\\end{pmatrix}$$\n",
    "    \n",
    "   б)$$\\begin{pmatrix}\n",
    "1 & 1 & 2 & 4\\\\ \n",
    "2 & 5 & 8 & 9\\\\ \n",
    "3 & 18 & 29 & 18\\\\\n",
    "4 & 22 & 53 & 33\n",
    "\\end{pmatrix}$$"
   ]
  },
  {
   "cell_type": "markdown",
   "metadata": {},
   "source": [
    "**<font color='darkblue'>Решение:</font>**<br>\n",
    "а) Друг под другом: сверху формируем матрицу $U$, снизу матрицу $L$:<br>\n",
    "U: $\\begin{pmatrix}\n",
    "1 & 2 & 4 \\\\ \n",
    "2 & 9 & 12 \\\\ \n",
    "3 & 26 & 30\n",
    "\\end{pmatrix}\\rightarrow\n",
    "\\begin{pmatrix}\n",
    "1 & 2 & 4 \\\\ \n",
    "0 & 5 & 4 \\\\ \n",
    "0 & 20 & 18\n",
    "\\end{pmatrix}\\rightarrow\n",
    "\\begin{pmatrix}\n",
    "1 & 2 & 4 \\\\ \n",
    "0 & 5 & 4 \\\\ \n",
    "0 & 0 & 2\n",
    "\\end{pmatrix}=U$<br>\n",
    "L: $\\begin{pmatrix}\n",
    "1 & 0 & 0 \\\\ \n",
    "l_{21} & 1 & 0 \\\\ \n",
    "l_{31} & l_{32} & 1\n",
    "\\end{pmatrix}\\rightarrow\n",
    "\\begin{pmatrix}\n",
    "1 & 0 & 0 \\\\ \n",
    "2 & 1 & 0 \\\\ \n",
    "3 & l_{32} & 1\n",
    "\\end{pmatrix}\\rightarrow\n",
    "\\begin{pmatrix}\n",
    "1 & 0 & 0 \\\\ \n",
    "2 & 1 & 0 \\\\ \n",
    "3 & 4 & 1\n",
    "\\end{pmatrix}=L$<br><br>\n",
    "$\\Rightarrow \\begin{pmatrix}\n",
    "1 & 2 & 4 \\\\ \n",
    "2 & 9 & 12 \\\\ \n",
    "3 & 26 & 30\n",
    "\\end{pmatrix} = \\begin{pmatrix}\n",
    "1 & 0 & 0 \\\\ \n",
    "2 & 1 & 0 \\\\ \n",
    "3 & 4 & 1\n",
    "\\end{pmatrix}\n",
    "\\begin{pmatrix}\n",
    "1 & 2 & 4 \\\\ \n",
    "0 & 5 & 4 \\\\ \n",
    "0 & 0 & 2\n",
    "\\end{pmatrix}$<br><br>\n",
    "б) Друг под другом: сверху формируем матрицу $U$, снизу матрицу $L$:<br>\n",
    "U: $\\begin{pmatrix}\n",
    "1 & 1 & 2 & 4\\\\ \n",
    "2 & 5 & 8 & 9\\\\ \n",
    "3 & 18 & 29 & 18\\\\\n",
    "4 & 22 & 53 & 33\n",
    "\\end{pmatrix} \\rightarrow \n",
    "\\begin{pmatrix}\n",
    "1 & 1 & 2 & 4\\\\ \n",
    "0 & 3 & 4 & 1\\\\ \n",
    "0 & 15 & 23 & 6\\\\\n",
    "0 & 18 & 45 & 17\n",
    "\\end{pmatrix} \\rightarrow \n",
    "\\begin{pmatrix}\n",
    "1 & 1 & 2 & 4\\\\ \n",
    "0 & 3 & 4 & 1\\\\ \n",
    "0 & 0 & 3 & 1\\\\\n",
    "0 & 0 & 21 & 11\n",
    "\\end{pmatrix} \\rightarrow \n",
    "\\begin{pmatrix}\n",
    "1 & 1 & 2 & 4\\\\ \n",
    "0 & 3 & 4 & 1\\\\ \n",
    "0 & 0 & 3 & 1\\\\\n",
    "0 & 0 & 0 & 4\n",
    "\\end{pmatrix}=U$<br>\n",
    "L: $\\begin{pmatrix}\n",
    "1 & 0 & 0 & 0\\\\ \n",
    "l_{21} & 1 & 0 & 0\\\\ \n",
    "l_{31} & l_{32} & 1 & 0\\\\\n",
    "l_{41} & l_{42} & l_{43} & 1\n",
    "\\end{pmatrix} \\rightarrow\n",
    "\\begin{pmatrix}\n",
    "1 & 0 & 0 & 0\\\\ \n",
    "2 & 1 & 0 & 0\\\\ \n",
    "3 & l_{32} & 1 & 0\\\\\n",
    "4 & l_{42} & l_{43} & 1\n",
    "\\end{pmatrix} \\rightarrow\n",
    "\\begin{pmatrix}\n",
    "1 & 0 & 0 & 0\\\\ \n",
    "2 & 1 & 0 & 0\\\\ \n",
    "3 & 5 & 1 & 0\\\\\n",
    "4 & 6 & l_{43} & 1\n",
    "\\end{pmatrix} \\rightarrow\n",
    "\\begin{pmatrix}\n",
    "1 & 0 & 0 & 0\\\\ \n",
    "2 & 1 & 0 & 0\\\\ \n",
    "3 & 5 & 1 & 0\\\\\n",
    "4 & 6 & 7 & 1\n",
    "\\end{pmatrix}=L$<br><br>\n",
    "$\\Rightarrow \\begin{pmatrix}\n",
    "1 & 1 & 2 & 4\\\\ \n",
    "2 & 5 & 8 & 9\\\\ \n",
    "3 & 18 & 29 & 18\\\\\n",
    "4 & 22 & 53 & 33\n",
    "\\end{pmatrix}=\\begin{pmatrix}\n",
    "1 & 0 & 0 & 0\\\\ \n",
    "2 & 1 & 0 & 0\\\\ \n",
    "3 & 5 & 1 & 0\\\\\n",
    "4 & 6 & 7 & 1\n",
    "\\end{pmatrix}\n",
    "\\begin{pmatrix}\n",
    "1 & 1 & 2 & 4\\\\ \n",
    "0 & 3 & 4 & 1\\\\ \n",
    "0 & 0 & 3 & 1\\\\\n",
    "0 & 0 & 0 & 4\n",
    "\\end{pmatrix}$"
   ]
  },
  {
   "cell_type": "markdown",
   "metadata": {},
   "source": [
    "### 3*. Задача\n",
    "#### Решить систему линейных уравнений методом $LU$-разложения\n",
    "$$\\begin{cases}\n",
    "2x_{1}+x_{2}+3x_{3}=1 \\\\\n",
    "11x_{1}+7x_{2}+5x_{3}=-6 \\\\\n",
    "9x_{1}+8x_{2}+4x_{3}=-5\n",
    "\\end{cases}$$"
   ]
  },
  {
   "cell_type": "markdown",
   "metadata": {},
   "source": [
    "**<font color='darkblue'>Решение:</font>**<br>\n",
    "Немного преобразуем исходную матрицу для простоты вычислений:<br>\n",
    "$\\begin{pmatrix}\n",
    "\\left.\\begin{matrix}\n",
    "2 & 1 & 3\\\\ \n",
    "11 & 7 & 5\\\\ \n",
    "9 & 8 & 4\n",
    "\\end{matrix}\\right|\n",
    "\\begin{matrix}\n",
    "1\\\\ \n",
    "-6\\\\\n",
    "-5\n",
    "\\end{matrix}\n",
    "\\end{pmatrix} \\rightarrow \n",
    "\\begin{pmatrix}\n",
    "\\left.\\begin{matrix}\n",
    "2 & 1 & 3\\\\ \n",
    "22 & 14 & 10\\\\ \n",
    "18 & 16 & 8\n",
    "\\end{matrix}\\right|\n",
    "\\begin{matrix}\n",
    "1\\\\ \n",
    "-12\\\\\n",
    "-10\n",
    "\\end{matrix}\n",
    "\\end{pmatrix}$<br><br>\n",
    "Друг под другом: сверху формируем матрицу $U$, снизу матрицу $L$:<br>\n",
    "U: $\\begin{pmatrix}\n",
    "2 & 1 & 3 \\\\ \n",
    "22 & 14 & 10 \\\\ \n",
    "18 & 16 & 8\n",
    "\\end{pmatrix} \\rightarrow\n",
    "\\begin{pmatrix}\n",
    "2 & 1 & 3 \\\\ \n",
    "0 & 3 & -23 \\\\ \n",
    "0 & 7 & -19\n",
    "\\end{pmatrix} \\rightarrow\n",
    "\\begin{pmatrix}\n",
    "2 & 1 & 3 \\\\ \n",
    "0 & 3 & -23 \\\\ \n",
    "0 & 0 & \\frac{104}{3}\n",
    "\\end{pmatrix}=U$<br>\n",
    "L: $\\begin{pmatrix}\n",
    "1 & 0 & 0 \\\\ \n",
    "l_{21} & 1 & 0 \\\\ \n",
    "l_{31} & l_{32} & 1\n",
    "\\end{pmatrix} \\rightarrow\n",
    "\\begin{pmatrix}\n",
    "1 & 0 & 0 \\\\ \n",
    "11 & 1 & 0 \\\\ \n",
    "9 & l_{32} & 1\n",
    "\\end{pmatrix} \\rightarrow\n",
    "\\begin{pmatrix}\n",
    "1 & 0 & 0 \\\\ \n",
    "11 & 1 & 0 \\\\ \n",
    "9 & \\frac{7}{3} & 1\n",
    "\\end{pmatrix}=L$<br><br>\n",
    "Решим систему $Ly=b$:<br>\n",
    "$\\begin{cases}\n",
    "y_1=1 \\\\\n",
    "11y_{1}+y_2=-12 \\\\\n",
    "9y_{1}+\\frac{7}{3}y_{2}+y_{3}=-10\n",
    "\\end{cases} \\Leftrightarrow\n",
    "\\begin{cases}\n",
    "y_1=1 \\\\\n",
    "y_2=-23 \\\\\n",
    "y_{3}=\\frac{104}{3}\n",
    "\\end{cases}$<br><br>\n",
    "Решим систему $Ux=y$:<br>\n",
    "$\\begin{cases}\n",
    "2x_1+x_2+3x_3=1 \\\\\n",
    "3x_2-23x_3=-23 \\\\\n",
    "\\frac{104}{3}x_3=\\frac{104}{3}\n",
    "\\end{cases} \\Leftrightarrow\n",
    "\\begin{cases}\n",
    "x_1=-1 \\\\\n",
    "x_2=0 \\\\\n",
    "x_3=1\n",
    "\\end{cases}$<br>\n",
    "**Ответ: (-1,0,1)**"
   ]
  },
  {
   "cell_type": "markdown",
   "metadata": {},
   "source": [
    "### 4*. Задача\n",
    "#### Решить систему линейных уравнений методом Холецкого\n",
    "$$\\begin{cases}\n",
    "81x_{1}-45x_{2}+45x_{3}=531 \\\\\n",
    "-45x_{1}+50x_{2}-15x_{3}=-460 \\\\\n",
    "45x_{1}-15x_{2}+38x_{3}=193\n",
    "\\end{cases}$$"
   ]
  },
  {
   "cell_type": "markdown",
   "metadata": {},
   "source": [
    "**<font color='darkblue'>Решение:</font>**<br>\n",
    "Произведем разложение на $LL^{T}$:\n",
    "$l_{11}=\\sqrt{a_{11}}=\\sqrt{81}=9,$<br>\n",
    "$l_{21}=\\frac{a_{21}}{l_{11}}=\\frac{-45}{9}=-5,$<br>\n",
    "$l_{31}=\\frac{a_{31}}{l_{11}}=\\frac{45}{9}=5,$<br>\n",
    "$l_{22}=\\sqrt{a_{22}-l_{21}^{2}}=\\sqrt{50 - 25}=\\sqrt{25}=5,$<br>\n",
    "$l_{32}=\\frac{1}{l_{22}}\\left ( a_{32}-l_{21}l_{31} \\right)=\\frac{1}{5}(-15+25)=\\frac{10}{5}=2,$<br>\n",
    "$l_{33}=\\sqrt{a_{33}-l_{31}^{2}-l_{32}^{2}}=\\sqrt{38-25-4}=\\sqrt{9}=3.$<br><br>\n",
    "Получили матрицу \n",
    "$L = \\begin{pmatrix}\n",
    "9 & 0 & 0 \\\\ \n",
    "-5 & 5 & 0 \\\\ \n",
    "5 & 2 & 3\n",
    "\\end{pmatrix}, \n",
    "\\; \\;\n",
    "L^{T} = \\begin{pmatrix}\n",
    "9 & -5 & 5 \\\\ \n",
    "0 & 5 & 2 \\\\ \n",
    "0 & 0 & 3\n",
    "\\end{pmatrix}.$<br><br>\n",
    "Решим систему $Ly=b:$<br>\n",
    "$\\begin{cases}\n",
    "9y_1=531, \\\\\n",
    "-5y_1+5y_2=-460, \\\\\n",
    "5y_1+2y_2+3y_3=193.\n",
    "\\end{cases} \\Leftrightarrow\n",
    "\\begin{cases}\n",
    "y_1=59, \\\\\n",
    "y_2=-33, \\\\\n",
    "y_3=-12.\n",
    "\\end{cases}$<br><br>\n",
    "И решим систему $L^{T}x=y:$<br>\n",
    "$\\begin{cases}\n",
    "9x_1-5x_2+5x_3=59, \\\\\n",
    "5x_2+2x_3=-33, \\\\\n",
    "3x_{3}=-12.\n",
    "\\end{cases} \\Leftrightarrow\n",
    "\\begin{cases}\n",
    "x_1=6, \\\\\n",
    "x_2=-5, \\\\\n",
    "x_3=-4.\n",
    "\\end{cases}$<br>\n",
    "**Ответ: (6,-5,-4)**"
   ]
  },
  {
   "cell_type": "code",
   "execution_count": 8,
   "metadata": {},
   "outputs": [
    {
     "name": "stdout",
     "output_type": "stream",
     "text": [
      "x=[ 6. -5. -4.]\n"
     ]
    }
   ],
   "source": [
    "# Проверка - численное решение\n",
    "A = np.array([[81,-45,45],[-45,50,-15],[45,-15,38]])\n",
    "b = np.array([531,-460,193])\n",
    "print(f'x={np.linalg.solve(A,b)}')"
   ]
  },
  {
   "cell_type": "markdown",
   "metadata": {},
   "source": [
    "### 5*. Задача\n",
    "#### Написать на Python программу с реализацией одного из изученных алгоритмов решения СЛАУ."
   ]
  },
  {
   "cell_type": "markdown",
   "metadata": {},
   "source": [
    "**<font color='darkblue'>Решение:</font>**<br>"
   ]
  },
  {
   "cell_type": "code",
   "execution_count": 9,
   "metadata": {},
   "outputs": [],
   "source": [
    "def solve_by_Cramer(A,b):\n",
    "    x = []\n",
    "    det_A = np.linalg.det(A)\n",
    "    A_T = A.T\n",
    "    for i in range(len(A_T)):\n",
    "        Ai = copy.deepcopy(A_T)\n",
    "        Ai[i] = b\n",
    "        det_Ai = np.linalg.det(Ai.T)\n",
    "        x.append(det_Ai / det_A)\n",
    "    return x "
   ]
  },
  {
   "cell_type": "code",
   "execution_count": 10,
   "metadata": {},
   "outputs": [
    {
     "name": "stdout",
     "output_type": "stream",
     "text": [
      "A=[[ 2 -1  5]\n",
      " [ 1  1 -3]\n",
      " [ 2  4  1]]\n",
      "b=[10 -2  1]\n"
     ]
    }
   ],
   "source": [
    "A = np.array([[2, -1, 5], [1, 1, -3], [2, 4, 1]])\n",
    "b = np.array([10, -2, 1])\n",
    "print(f'A={A}')\n",
    "print(f'b={b}')"
   ]
  },
  {
   "cell_type": "code",
   "execution_count": 11,
   "metadata": {},
   "outputs": [
    {
     "data": {
      "text/plain": [
       "[2.0000000000000018, -1.0000000000000009, 1.0]"
      ]
     },
     "execution_count": 11,
     "metadata": {},
     "output_type": "execute_result"
    }
   ],
   "source": [
    "solve_by_Cramer(A,b)"
   ]
  },
  {
   "cell_type": "code",
   "execution_count": null,
   "metadata": {},
   "outputs": [],
   "source": []
  }
 ],
 "metadata": {
  "kernelspec": {
   "display_name": "Python 3",
   "language": "python",
   "name": "python3"
  },
  "language_info": {
   "codemirror_mode": {
    "name": "ipython",
    "version": 3
   },
   "file_extension": ".py",
   "mimetype": "text/x-python",
   "name": "python",
   "nbconvert_exporter": "python",
   "pygments_lexer": "ipython3",
   "version": "3.7.3"
  }
 },
 "nbformat": 4,
 "nbformat_minor": 2
}
