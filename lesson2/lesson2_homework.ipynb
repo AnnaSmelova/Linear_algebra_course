{
 "cells": [
  {
   "cell_type": "markdown",
   "metadata": {},
   "source": [
    "**Автор: Анна Смелова**"
   ]
  },
  {
   "cell_type": "code",
   "execution_count": 1,
   "metadata": {},
   "outputs": [],
   "source": [
    "import numpy as np"
   ]
  },
  {
   "cell_type": "markdown",
   "metadata": {},
   "source": [
    "## Решение домашнего задания к уроку 3 “Матрицы и матричные операции. Часть 1”"
   ]
  },
  {
   "cell_type": "markdown",
   "metadata": {},
   "source": [
    "### 1. Задача\n",
    "#### Установить, какие произведения матриц $AB$ и $BA$ определены, и найти размерности полученных матриц:\n",
    " а) $A$ — матрица $4\\times 2$, $B$ — матрица $4\\times 2$;\n",
    "    \n",
    "   б) $A$ — матрица $2\\times 5$, $B$ — матрица $5\\times 3$;\n",
    "    \n",
    "   в) $A$ — матрица $8\\times 3$, $B$ — матрица $3\\times 8$;\n",
    "    \n",
    "   г) $A$ — квадратная матрица $4\\times 4$, $B$ — квадратная матрица $4\\times 4$.\n"
   ]
  },
  {
   "cell_type": "markdown",
   "metadata": {},
   "source": [
    "**<font color='darkblue'>Решение:</font>**<br>\n",
    "Произведением матрицы $A = \\left\\|a_{ij}\\right\\|$, имеющей порядки $m$ и $n$, и матрицы $B = \\left\\|b_{ij}\\right\\|$, имеющей порядки $n$ и $k$, называется матрица $C = \\left\\|c_{ij}\\right\\|$, имеющая порядки $m$ и $k$<br>\n",
    "Матрицу $A$ можно умножить не на всякую матрицу $B$: необходимо, чтобы число столбцов матрицы $A$ было равно числу строк матрицы $B$.<br><br>\n",
    "а) $A$ — матрица $4\\times 2$, $B$ — матрица $4\\times 2$<br>\n",
    "$4\\neq2 \\Rightarrow$ произведение $AB$ не определено, аналогично произведение $BA$ не определено.<br><br>\n",
    "б) $A$ — матрица $2\\times 5$, $B$ — матрица $5\\times 3$<br>\n",
    "$2\\neq3 \\Rightarrow$ произведение $AB$ не определено<br>\n",
    "$5=5 \\Rightarrow$ произведение $BA$ определено и имеет размерность $5\\times5$<br><br>\n",
    "в) $A$ — матрица $8\\times 3$, $B$ — матрица $3\\times 8$<br>\n",
    "$8=8 \\Rightarrow$ произведение $AB$ определено и имеет размерность $8\\times8$<br>\n",
    "$3=3 \\Rightarrow$ произведение $BA$ определено и имеет размерность $3\\times3$<br><br>\n",
    "г) $A$ — квадратная матрица $4\\times 4$, $B$ — квадратная матрица $4\\times 4$<br>\n",
    "$4=4 \\Rightarrow$ произведения $AB$ и $BA$ определены и имеют размерности $4\\times4$ и $4\\times4$."
   ]
  },
  {
   "cell_type": "markdown",
   "metadata": {},
   "source": [
    "### 2. Задача\n",
    "#### Найти сумму и произведение матриц \n",
    "$A=\\begin{pmatrix}\n",
    "1 & -2\\\\ \n",
    "3 & 0\n",
    "\\end{pmatrix}$ и $B=\\begin{pmatrix}\n",
    "4 & -1\\\\ \n",
    "0 & 5\n",
    "\\end{pmatrix}.$"
   ]
  },
  {
   "cell_type": "markdown",
   "metadata": {},
   "source": [
    "**<font color='darkblue'>Решение:</font>**<br>\n",
    "Сумма: $A+B=\n",
    "\\begin{pmatrix}\n",
    "1 & -2\\\\ \n",
    "3 & 0\n",
    "\\end{pmatrix}\n",
    "+\n",
    "\\begin{pmatrix}\n",
    "4 & -1\\\\ \n",
    "0 & 5\n",
    "\\end{pmatrix}=\n",
    "\\begin{pmatrix}\n",
    "5 & -3\\\\ \n",
    "3 & 5\n",
    "\\end{pmatrix}\n",
    "$<br><br>\n",
    "Произведение: $A\\cdot B=\n",
    "\\begin{pmatrix}\n",
    "1 & -2\\\\ \n",
    "3 & 0\n",
    "\\end{pmatrix}\n",
    "\\cdot\n",
    "\\begin{pmatrix}\n",
    "4 & -1\\\\ \n",
    "0 & 5\n",
    "\\end{pmatrix}=\n",
    "\\begin{pmatrix}\n",
    "4-0 & -1-10\\\\ \n",
    "12+0 & -3+0\n",
    "\\end{pmatrix}=\n",
    "\\begin{pmatrix}\n",
    "4 & -11\\\\ \n",
    "12 & -3\n",
    "\\end{pmatrix}$<br><br>\n",
    "Произведение: $B\\cdot A=\n",
    "\\begin{pmatrix}\n",
    "4 & -1\\\\ \n",
    "0 & 5\n",
    "\\end{pmatrix}\n",
    "\\cdot\n",
    "\\begin{pmatrix}\n",
    "1 & -2\\\\ \n",
    "3 & 0\n",
    "\\end{pmatrix}=\n",
    "\\begin{pmatrix}\n",
    "4-3 & -8+0\\\\ \n",
    "0+15 & 0+0\n",
    "\\end{pmatrix}=\n",
    "\\begin{pmatrix}\n",
    "1 & -8\\\\ \n",
    "15 & 0\n",
    "\\end{pmatrix}$"
   ]
  },
  {
   "cell_type": "code",
   "execution_count": 2,
   "metadata": {},
   "outputs": [
    {
     "name": "stdout",
     "output_type": "stream",
     "text": [
      "Матрица A:\n",
      " [[ 1 -2]\n",
      " [ 3  0]]\n",
      "Матрица B:\n",
      " [[ 4 -1]\n",
      " [ 0  5]]\n",
      "Сумма A+B:\n",
      " [[ 5 -3]\n",
      " [ 3  5]]\n",
      "Матрица AB:\n",
      " [[  4 -11]\n",
      " [ 12  -3]]\n",
      "Матрица BA:\n",
      " [[ 1 -8]\n",
      " [15  0]]\n"
     ]
    }
   ],
   "source": [
    "A = np.array([[1, -2], [3, 0]])\n",
    "B = np.array([[4, -1], [0, 5]])\n",
    "\n",
    "print(f'Матрица A:\\n {A}')\n",
    "print(f'Матрица B:\\n {B}')\n",
    "print(f'Сумма A+B:\\n {A+B}')\n",
    "print(f'Матрица AB:\\n {np.dot(A, B)}')\n",
    "print(f'Матрица BA:\\n {np.dot(B, A)}')"
   ]
  },
  {
   "cell_type": "markdown",
   "metadata": {},
   "source": [
    "### 3. Задача\n",
    "#### Из закономерностей сложения и умножения матриц на число можно сделать вывод, что матрицы одного размера образуют линейное пространство. Вычислить линейную комбинацию $3A-2B+4C$ для матриц \n",
    "$A=\\begin{pmatrix}\n",
    "1 & 7\\\\ \n",
    "3 & -6\n",
    "\\end{pmatrix}$, $B=\\begin{pmatrix}\n",
    "0 & 5\\\\ \n",
    "2 & -1\n",
    "\\end{pmatrix}$, $C=\\begin{pmatrix}\n",
    "2 & -4\\\\ \n",
    "1 & 1\n",
    "\\end{pmatrix}.$"
   ]
  },
  {
   "cell_type": "markdown",
   "metadata": {},
   "source": [
    "**<font color='darkblue'>Решение:</font>**<br>\n",
    "$A=\\begin{pmatrix}\n",
    "1 & 7\\\\ \n",
    "3 & -6\n",
    "\\end{pmatrix}$, $B=\\begin{pmatrix}\n",
    "0 & 5\\\\ \n",
    "2 & -1\n",
    "\\end{pmatrix}$, $C=\\begin{pmatrix}\n",
    "2 & -4\\\\ \n",
    "1 & 1\n",
    "\\end{pmatrix}.$<br><br>\n",
    "1) $3A=\\begin{pmatrix}\n",
    "3 & 21\\\\ \n",
    "9 & -18\n",
    "\\end{pmatrix}$<br><br>\n",
    "2) $2B=\\begin{pmatrix}\n",
    "0 & 10\\\\ \n",
    "4 & -2\n",
    "\\end{pmatrix}$<br><br>\n",
    "3) $4C=\\begin{pmatrix}\n",
    "8 & -16\\\\ \n",
    "4 & 4\n",
    "\\end{pmatrix}$<br><br>\n",
    "4) $3A-2B+4C=\\begin{pmatrix}\n",
    "3 & 21\\\\ \n",
    "9 & -18\n",
    "\\end{pmatrix}-\\begin{pmatrix}\n",
    "0 & 10\\\\ \n",
    "4 & -2\n",
    "\\end{pmatrix}+\\begin{pmatrix}\n",
    "8 & -16\\\\ \n",
    "4 & 4\n",
    "\\end{pmatrix}=\n",
    "\\begin{pmatrix}\n",
    "3-0+8 & 21-10-16\\\\ \n",
    "9-4+4 & -18+2+4\n",
    "\\end{pmatrix}=\n",
    "\\begin{pmatrix}\n",
    "11 & -5\\\\ \n",
    "9 & -12\n",
    "\\end{pmatrix}$"
   ]
  },
  {
   "cell_type": "code",
   "execution_count": 3,
   "metadata": {},
   "outputs": [
    {
     "name": "stdout",
     "output_type": "stream",
     "text": [
      "Матрица A:\n",
      " [[ 1  7]\n",
      " [ 3 -6]]\n",
      "Матрица B:\n",
      " [[ 0  5]\n",
      " [ 2 -1]]\n",
      "Матрица C:\n",
      " [[ 2 -4]\n",
      " [ 1  1]]\n",
      "3*A-2*B+4*C:\n",
      " [[ 11  -5]\n",
      " [  9 -12]]\n"
     ]
    }
   ],
   "source": [
    "A = np.array([[1, 7], [3, -6]])\n",
    "B = np.array([[0, 5], [2, -1]])\n",
    "C = np.array([[2, -4], [1, 1]])\n",
    "print(f'Матрица A:\\n {A}')\n",
    "print(f'Матрица B:\\n {B}')\n",
    "print(f'Матрица C:\\n {C}')\n",
    "print(f'3*A-2*B+4*C:\\n {3*A-2*B+4*C}')"
   ]
  },
  {
   "cell_type": "markdown",
   "metadata": {},
   "source": [
    "### 4. Задача\n",
    "#### Дана матрица \n",
    "$A=\\begin{pmatrix}\n",
    "4 & 1\\\\ \n",
    "5 & -2\\\\ \n",
    "2 & 3\n",
    "\\end{pmatrix}$.\n",
    "#### Вычислить \n",
    "$AA^{T}$ и $A^{T}A$."
   ]
  },
  {
   "cell_type": "markdown",
   "metadata": {},
   "source": [
    "**<font color='darkblue'>Решение:</font>**<br>\n",
    "$A=\\begin{pmatrix}\n",
    "4 & 1\\\\ \n",
    "5 & -2\\\\ \n",
    "2 & 3\n",
    "\\end{pmatrix}$<br>\n",
    "$A^{T}=\\begin{pmatrix}\n",
    "4 & 5 & 2\\\\ \n",
    "1 & -2 & 3\n",
    "\\end{pmatrix}$"
   ]
  },
  {
   "cell_type": "markdown",
   "metadata": {},
   "source": [
    "$AA^{T}=\\begin{pmatrix}\n",
    "4 & 1\\\\ \n",
    "5 & -2\\\\ \n",
    "2 & 3\n",
    "\\end{pmatrix}\\cdot\n",
    "\\begin{pmatrix}\n",
    "4 & 5 & 2\\\\ \n",
    "1 & -2 & 3\n",
    "\\end{pmatrix}=\n",
    "\\begin{pmatrix}\n",
    "16+1 & 20-2 & 8+3\\\\\n",
    "20-2 & 25+4 & 10-6\\\\\n",
    "8+3 & 10-6 & 4+9\n",
    "\\end{pmatrix}=\n",
    "\\begin{pmatrix}\n",
    "17 & 18 & 11\\\\\n",
    "18 & 29 & 4\\\\\n",
    "11 & 4 & 13\n",
    "\\end{pmatrix}$<br><br>\n",
    "$A^{T}A=\\begin{pmatrix}\n",
    "4 & 5 & 2\\\\ \n",
    "1 & -2 & 3\n",
    "\\end{pmatrix}\\cdot\n",
    "\\begin{pmatrix}\n",
    "4 & 1\\\\ \n",
    "5 & -2\\\\ \n",
    "2 & 3\n",
    "\\end{pmatrix}=\n",
    "\\begin{pmatrix}\n",
    "16+25+4 & 4-10+6\\\\\n",
    "4-10+6 & 1+4+9\n",
    "\\end{pmatrix}=\n",
    "\\begin{pmatrix}\n",
    "45 & 0\\\\\n",
    "0 & 14\n",
    "\\end{pmatrix}$"
   ]
  },
  {
   "cell_type": "code",
   "execution_count": 4,
   "metadata": {},
   "outputs": [
    {
     "name": "stdout",
     "output_type": "stream",
     "text": [
      "Матрица A:\n",
      " [[ 4  1]\n",
      " [ 5 -2]\n",
      " [ 2  3]]\n",
      "Транспонированная матрица AT:\n",
      " [[ 4  5  2]\n",
      " [ 1 -2  3]]\n",
      "Матрица AA_T:\n",
      " [[17 18 11]\n",
      " [18 29  4]\n",
      " [11  4 13]]\n",
      "Матрица A_TA:\n",
      " [[45  0]\n",
      " [ 0 14]]\n"
     ]
    }
   ],
   "source": [
    "A = np.array([[4, 1], [5, -2], [2, 3]])\n",
    "print(f'Матрица A:\\n {A}')\n",
    "A_T = A.T\n",
    "print(f'Транспонированная матрица AT:\\n {A_T}')\n",
    "print(f'Матрица AA_T:\\n {np.dot(A, A_T)}')\n",
    "print(f'Матрица A_TA:\\n {np.dot(A_T, A)}')"
   ]
  },
  {
   "cell_type": "markdown",
   "metadata": {},
   "source": [
    "### 5*. Задача\n",
    "#### Написать на Python функцию для перемножения двух произвольных матриц, не используя NumPy."
   ]
  },
  {
   "cell_type": "markdown",
   "metadata": {},
   "source": [
    "**<font color='darkblue'>Решение:</font>**<br>"
   ]
  },
  {
   "cell_type": "code",
   "execution_count": 5,
   "metadata": {},
   "outputs": [],
   "source": [
    "# Вспомогательная функция\n",
    "# Возвращает транспонированную матрицу\n",
    "def get_matrix_transpose(A):\n",
    "    A_T = []\n",
    "    n = len(A)\n",
    "    m = len(A[0])\n",
    "    for j in range(m):\n",
    "        col = []\n",
    "        for i in A:\n",
    "            col.append(i[j])\n",
    "        A_T.append(col)\n",
    "    return A_T \n",
    "\n",
    "# Функция для перемножения двух матриц\n",
    "# Матрицы задаем обычным двумерным массивом\n",
    "# Возвращает результат произведения\n",
    "def get_matrix_multiply(A,B):\n",
    "    if not A or not A[0] or not B or not B[0] or type(A[0])==int or type(B[0])==int:\n",
    "        print(f'Укажите матрицы, используя двумерные массивы.')\n",
    "        return 'error'\n",
    "    n = len(A)  # количество строк A\n",
    "    m = len(A[0])  # количество столбцов А\n",
    "    p = len(B)  # количество строк B\n",
    "    k = len(B[0])  # количество столбцов B\n",
    "    if n != k:\n",
    "        print(f'Произведение не определено, причина: размерность указанных матриц')\n",
    "        return 'error'\n",
    "    B_T = get_matrix_transpose(B)\n",
    "    C = [[None]*n for _ in range(n)]  # результирующая матрица\n",
    "    for i in range(n):  # зафиксировали строку A\n",
    "        for j in range(k):  # зафиксировали столбец B(строку B_T) \n",
    "            el = 0  # [i,j] элемент результирующей матрицы \n",
    "            for ii in range(m):  # зафиксировали элемент строки A \n",
    "                el += A[i][ii]*B_T[j][ii]\n",
    "            C[i][j] = el\n",
    "    \n",
    "    print(f'Первая матрица:\\n {A}')\n",
    "    print(f'Вторая матрица:\\n {B}')\n",
    "    print(f'Произведение:\\n {C}')\n",
    "    return C     "
   ]
  },
  {
   "cell_type": "code",
   "execution_count": 6,
   "metadata": {},
   "outputs": [
    {
     "name": "stdout",
     "output_type": "stream",
     "text": [
      "Первая матрица:\n",
      " [[1, -2], [3, 0]]\n",
      "Вторая матрица:\n",
      " [[4, -1], [0, 5]]\n",
      "Произведение:\n",
      " [[4, -11], [12, -3]]\n",
      "Проверка через numpy:\n",
      " [[  4 -11]\n",
      " [ 12  -3]]\n",
      "\n",
      "Первая матрица:\n",
      " [[4, 1], [5, -2], [2, 3]]\n",
      "Вторая матрица:\n",
      " [[4, 5, 2], [1, -2, 3]]\n",
      "Произведение:\n",
      " [[17, 18, 11], [18, 29, 4], [11, 4, 13]]\n",
      "Проверка через numpy:\n",
      " [[17 18 11]\n",
      " [18 29  4]\n",
      " [11  4 13]]\n",
      "\n"
     ]
    }
   ],
   "source": [
    "# Test\n",
    "A = [[1, -2], [3, 0]]\n",
    "B = [[4, -1], [0, 5]]\n",
    "get_matrix_multiply(A,B)\n",
    "print(f'Проверка через numpy:\\n {np.dot(np.array(A), np.array(B))}\\n')\n",
    "C = [[4, 1], [5, -2], [2, 3]]\n",
    "C_T = [[4, 5, 2], [1, -2, 3]] \n",
    "get_matrix_multiply(C,C_T)\n",
    "print(f'Проверка через numpy:\\n {np.dot(np.array(C), np.array(C_T))}\\n')"
   ]
  },
  {
   "cell_type": "markdown",
   "metadata": {},
   "source": [
    "## Решение домашнего задания к уроку 4 “Матрицы и матричные операции. Часть 2”"
   ]
  },
  {
   "cell_type": "markdown",
   "metadata": {},
   "source": [
    "### 1. Задача\n",
    "#### Вычислить определитель:\n",
    "\n",
    "   a)\n",
    "\n",
    "$$\\begin{vmatrix}\n",
    "sinx & -cosx\\\\ \n",
    "cosx & sinx\n",
    "\\end{vmatrix};$$\n",
    "\n",
    "   б)\n",
    "    \n",
    "$$\\begin{vmatrix}\n",
    "4 & 2 & 3\\\\ \n",
    "0 & 5 & 1\\\\ \n",
    "0 & 0 & 9\n",
    "\\end{vmatrix};$$\n",
    "    \n",
    "   в)\n",
    "\n",
    "$$\\begin{vmatrix}\n",
    "1 & 2 & 3\\\\ \n",
    "4 & 5 & 6\\\\ \n",
    "7 & 8 & 9\n",
    "\\end{vmatrix}.$$"
   ]
  },
  {
   "cell_type": "markdown",
   "metadata": {},
   "source": [
    "**<font color='darkblue'>Решение:</font>**<br>\n",
    "a) $\\begin{vmatrix}\n",
    "sinx & -cosx\\\\ \n",
    "cosx & sinx\n",
    "\\end{vmatrix}=sin^2x+cos^2x=1$<br><br>\n",
    "б) $\\begin{vmatrix}\n",
    "4 & 2 & 3\\\\ \n",
    "0 & 5 & 1\\\\ \n",
    "0 & 0 & 9\n",
    "\\end{vmatrix}=4\\cdot5\\cdot9+2\\cdot1\\cdot0+3\\cdot0\\cdot0-3\\cdot5\\cdot0-2\\cdot0\\cdot9-4\\cdot1\\cdot0=180+0+0-0-0-0=180$<br><br>\n",
    "в) $\\begin{vmatrix}\n",
    "1 & 2 & 3\\\\ \n",
    "4 & 5 & 6\\\\ \n",
    "7 & 8 & 9\n",
    "\\end{vmatrix}=1\\cdot5\\cdot9+3\\cdot4\\cdot8+2\\cdot6\\cdot7-3\\cdot5\\cdot7-2\\cdot4\\cdot9-1\\cdot6\\cdot8=45+96+84-105-72-48=0$"
   ]
  },
  {
   "cell_type": "code",
   "execution_count": 7,
   "metadata": {},
   "outputs": [
    {
     "name": "stdout",
     "output_type": "stream",
     "text": [
      "Матрица б):\n",
      " [[4 2 3]\n",
      " [0 5 1]\n",
      " [0 0 9]]\n",
      "Определитель б):\n",
      " 180\n",
      "Матрица в):\n",
      " [[1 2 3]\n",
      " [4 5 6]\n",
      " [7 8 9]]\n",
      "Определитель в):\n",
      " -0\n"
     ]
    }
   ],
   "source": [
    "b = np.array([[4, 2, 3], [0, 5, 1], [0, 0, 9]])\n",
    "print(f'Матрица б):\\n {b}')\n",
    "print(f'Определитель б):\\n {np.linalg.det(b):.0f}')\n",
    "c = np.array([[1, 2, 3], [4, 5, 6], [7, 8, 9]])\n",
    "print(f'Матрица в):\\n {c}')\n",
    "print(f'Определитель в):\\n {np.linalg.det(c):.0f}')"
   ]
  },
  {
   "cell_type": "markdown",
   "metadata": {},
   "source": [
    "### 2. Задача\n",
    "#### Определитель матрицы $A$ равен $4$. Найти:\n",
    "\n",
    "   а) $det(A^{2})$;\n",
    "    \n",
    "   б) $det(A^{T})$;\n",
    "    \n",
    "   в) $det(2A)$."
   ]
  },
  {
   "cell_type": "markdown",
   "metadata": {},
   "source": [
    "**<font color='darkblue'>Решение:</font>**<br>\n",
    " а) $det(AB)=detA\\cdot detB \\Rightarrow det(A^{2})=det(AA)=detA\\cdot detA=4^2=16$<br><br>\n",
    " б) $detA^{T}=detA=4$<br><br>\n",
    " в) $det(2A)$ зависит от размерности матрицы $A$. Если матрица $A$ размером $n\\times n$, то $det(2A)=2^n\\cdot det(A)=2^n\\cdot4$"
   ]
  },
  {
   "cell_type": "markdown",
   "metadata": {},
   "source": [
    "### 3. Задача\n",
    "#### Доказать, что матрица\n",
    "\n",
    "$$\\begin{pmatrix}\n",
    "-2 & 7 & -3\\\\ \n",
    "4 & -14 & 6\\\\ \n",
    "-3 & 7 & 13\n",
    "\\end{pmatrix}$$\n",
    "   \n",
    "вырожденная."
   ]
  },
  {
   "cell_type": "markdown",
   "metadata": {},
   "source": [
    "**<font color='darkblue'>Решение:</font>**<br>\n",
    "$A=\\begin{pmatrix}\n",
    "-2 & 7 & -3\\\\ \n",
    "4 & -14 & 6\\\\ \n",
    "-3 & 7 & 13\n",
    "\\end{pmatrix}$<br>\n",
    "$det(A)=(-2)\\cdot(-14)\\cdot13+7\\cdot6\\cdot(-3)+(-3)\\cdot4\\cdot7-(-3)\\cdot(-14)\\cdot(-3)-7\\cdot4\\cdot13-(-2)\\cdot6\\cdot7=364-126-84+126-364+84=0$<br>\n",
    "Матрица называется сингулярной, или вырожденной, если ее определитель равен нулю. чтд."
   ]
  },
  {
   "cell_type": "code",
   "execution_count": 8,
   "metadata": {},
   "outputs": [
    {
     "name": "stdout",
     "output_type": "stream",
     "text": [
      "Матрица A:\n",
      " [[ -2   7  -3]\n",
      " [  4 -14   6]\n",
      " [ -3   7  13]]\n",
      "Определитель A:\n",
      " 0\n"
     ]
    }
   ],
   "source": [
    "A = np.array([[-2, 7, -3], [4, -14, 6], [-3, 7, 13]])\n",
    "print(f'Матрица A:\\n {A}')\n",
    "print(f'Определитель A:\\n {np.linalg.det(A):.0f}')"
   ]
  },
  {
   "cell_type": "markdown",
   "metadata": {},
   "source": [
    "### 4. Задача\n",
    "#### Найти ранг матрицы:\n",
    "\n",
    "   а) $\\begin{pmatrix}\n",
    "1 & 2 & 3\\\\ \n",
    "1 & 1 & 1\\\\ \n",
    "2 & 3 & 4\n",
    "\\end{pmatrix};$\n",
    "\n",
    "   б) $\\begin{pmatrix}\n",
    "0 & 0 & 2 & 1\\\\ \n",
    "0 & 0 & 2 & 2\\\\ \n",
    "0 & 0 & 4 & 3\\\\ \n",
    "2 & 3 & 5 & 6\n",
    "\\end{pmatrix}.$"
   ]
  },
  {
   "cell_type": "markdown",
   "metadata": {},
   "source": [
    "**<font color='darkblue'>Решение:</font>**<br>\n",
    "а) $A=\\begin{pmatrix}\n",
    "1 & 2 & 3\\\\ \n",
    "1 & 1 & 1\\\\ \n",
    "2 & 3 & 4\n",
    "\\end{pmatrix}\\rightarrow \n",
    "\\begin{pmatrix}\n",
    "1 & 1 & 1\\\\ \n",
    "0 & 1 & 2\\\\ \n",
    "0 & 1 & 2\n",
    "\\end{pmatrix}\\rightarrow\n",
    "\\begin{pmatrix}\n",
    "1 & 1 & 1\\\\ \n",
    "0 & 1 & 2\\\\ \n",
    "0 & 0 & 0\n",
    "\\end{pmatrix}$<br>\n",
    "$\\Rightarrow$ ранг матрицы $A$ равен 2.<br><br>\n",
    "б) $B=\\begin{pmatrix}\n",
    "0 & 0 & 2 & 1\\\\ \n",
    "0 & 0 & 2 & 2\\\\ \n",
    "0 & 0 & 4 & 3\\\\ \n",
    "2 & 3 & 5 & 6\n",
    "\\end{pmatrix}\\rightarrow\n",
    "\\begin{pmatrix}\n",
    "2 & 3 & 5 & 6\\\\ \n",
    "0 & 0 & 1 & 1\\\\ \n",
    "0 & 0 & 0 & -1\\\\ \n",
    "0 & 0 & 0 & -1\n",
    "\\end{pmatrix}\\rightarrow\n",
    "\\begin{pmatrix}\n",
    "2 & 3 & 5 & 6\\\\ \n",
    "0 & 0 & 1 & 1\\\\ \n",
    "0 & 0 & 0 & -1\\\\ \n",
    "0 & 0 & 0 & 0\n",
    "\\end{pmatrix}$<br>\n",
    "$\\Rightarrow$ ранг матрицы $B$ равен 3."
   ]
  },
  {
   "cell_type": "code",
   "execution_count": 9,
   "metadata": {},
   "outputs": [
    {
     "name": "stdout",
     "output_type": "stream",
     "text": [
      "Ранг матрицы A: 2\n",
      "Ранг матрицы B: 3\n"
     ]
    }
   ],
   "source": [
    "A = np.array([[1, 2, 3], [1, 1, 1], [2, 3, 4]])\n",
    "r_A = np.linalg.matrix_rank(A)\n",
    "print(f'Ранг матрицы A: {r_A}')\n",
    "B = np.array([[0, 0, 2, 1], [0, 0, 2, 2], [0, 0, 4, 3], [2, 3, 5, 6]])\n",
    "r_B = np.linalg.matrix_rank(B)\n",
    "print(f'Ранг матрицы B: {r_B}')"
   ]
  },
  {
   "cell_type": "markdown",
   "metadata": {},
   "source": [
    "### 5*. Задача\n",
    "#### Написать на Python функцию для вычисления определителя матрицы методом разложения по первой строке."
   ]
  },
  {
   "cell_type": "markdown",
   "metadata": {},
   "source": [
    "**<font color='darkblue'>Решение:</font>**<br>"
   ]
  },
  {
   "cell_type": "code",
   "execution_count": 10,
   "metadata": {},
   "outputs": [],
   "source": [
    "def get_det_by_first_row(A):\n",
    "    print(f'Считаем для матрицы: {A}')\n",
    "    if not A or not A[0] or type(A[0])==int:\n",
    "        print(f'Укажите матрицу, используя двумерный массив.')\n",
    "        return 'error'\n",
    "    n = len(A)  # количество строк=количество столбцов\n",
    "    if n == 1:\n",
    "        print(f'det={n}\\n')\n",
    "        return n\n",
    "    if n==2:\n",
    "        print(f'det={A[0][0]*A[1][1] - A[0][1]*A[1][0]}\\n')\n",
    "        return A[0][0]*A[1][1] - A[0][1]*A[1][0]\n",
    "    det = 0\n",
    "    first_row = A[0]  # первая строка\n",
    "    for i in range(n):\n",
    "        B = [[None]*(n-1) for _ in range(n-1)]\n",
    "        for p in range(n):\n",
    "            for k in range(n):\n",
    "                if p != 0:\n",
    "                    if k<i:\n",
    "                        B[p-1][k] = A[p][k]\n",
    "                    elif k>i:\n",
    "                        B[p-1][k-1] = A[p][k]\n",
    "        print(f'Элемент разложения по первой строке: {first_row[i]*(-1)**(i)}*{B}\\n')\n",
    "        det += first_row[i]*(-1)**(i)*get_det_by_first_row(B)\n",
    "    return det    "
   ]
  },
  {
   "cell_type": "code",
   "execution_count": 11,
   "metadata": {},
   "outputs": [
    {
     "name": "stdout",
     "output_type": "stream",
     "text": [
      "Считаем для матрицы: [[-1, 2, -3, 4], [5, -6, 7, 8], [9, 10, -11, 12], [13, -14, 15, 16]]\n",
      "Элемент разложения по первой строке: -1*[[-6, 7, 8], [10, -11, 12], [-14, 15, 16]]\n",
      "\n",
      "Считаем для матрицы: [[-6, 7, 8], [10, -11, 12], [-14, 15, 16]]\n",
      "Элемент разложения по первой строке: -6*[[-11, 12], [15, 16]]\n",
      "\n",
      "Считаем для матрицы: [[-11, 12], [15, 16]]\n",
      "det=-356\n",
      "\n",
      "Элемент разложения по первой строке: -7*[[10, 12], [-14, 16]]\n",
      "\n",
      "Считаем для матрицы: [[10, 12], [-14, 16]]\n",
      "det=328\n",
      "\n",
      "Элемент разложения по первой строке: 8*[[10, -11], [-14, 15]]\n",
      "\n",
      "Считаем для матрицы: [[10, -11], [-14, 15]]\n",
      "det=-4\n",
      "\n",
      "Элемент разложения по первой строке: -2*[[5, 7, 8], [9, -11, 12], [13, 15, 16]]\n",
      "\n",
      "Считаем для матрицы: [[5, 7, 8], [9, -11, 12], [13, 15, 16]]\n",
      "Элемент разложения по первой строке: 5*[[-11, 12], [15, 16]]\n",
      "\n",
      "Считаем для матрицы: [[-11, 12], [15, 16]]\n",
      "det=-356\n",
      "\n",
      "Элемент разложения по первой строке: -7*[[9, 12], [13, 16]]\n",
      "\n",
      "Считаем для матрицы: [[9, 12], [13, 16]]\n",
      "det=-12\n",
      "\n",
      "Элемент разложения по первой строке: 8*[[9, -11], [13, 15]]\n",
      "\n",
      "Считаем для матрицы: [[9, -11], [13, 15]]\n",
      "det=278\n",
      "\n",
      "Элемент разложения по первой строке: -3*[[5, -6, 8], [9, 10, 12], [13, -14, 16]]\n",
      "\n",
      "Считаем для матрицы: [[5, -6, 8], [9, 10, 12], [13, -14, 16]]\n",
      "Элемент разложения по первой строке: 5*[[10, 12], [-14, 16]]\n",
      "\n",
      "Считаем для матрицы: [[10, 12], [-14, 16]]\n",
      "det=328\n",
      "\n",
      "Элемент разложения по первой строке: 6*[[9, 12], [13, 16]]\n",
      "\n",
      "Считаем для матрицы: [[9, 12], [13, 16]]\n",
      "det=-12\n",
      "\n",
      "Элемент разложения по первой строке: 8*[[9, 10], [13, -14]]\n",
      "\n",
      "Считаем для матрицы: [[9, 10], [13, -14]]\n",
      "det=-256\n",
      "\n",
      "Элемент разложения по первой строке: -4*[[5, -6, 7], [9, 10, -11], [13, -14, 15]]\n",
      "\n",
      "Считаем для матрицы: [[5, -6, 7], [9, 10, -11], [13, -14, 15]]\n",
      "Элемент разложения по первой строке: 5*[[10, -11], [-14, 15]]\n",
      "\n",
      "Считаем для матрицы: [[10, -11], [-14, 15]]\n",
      "det=-4\n",
      "\n",
      "Элемент разложения по первой строке: 6*[[9, -11], [13, 15]]\n",
      "\n",
      "Считаем для матрицы: [[9, -11], [13, 15]]\n",
      "det=278\n",
      "\n",
      "Элемент разложения по первой строке: 7*[[9, 10], [13, -14]]\n",
      "\n",
      "Считаем для матрицы: [[9, 10], [13, -14]]\n",
      "det=-256\n",
      "\n",
      "Определитель матрицы: 1152\n",
      "\n",
      "Проверка через numpy:\n",
      " 1152\n"
     ]
    }
   ],
   "source": [
    "# Test\n",
    "A = [[-1, 2, -3, 4], [5, -6, 7, 8], [9, 10, -11, 12], [13, -14, 15, 16]]\n",
    "print(f'Определитель матрицы: {get_det_by_first_row(A)}')\n",
    "print()\n",
    "print(f'Проверка через numpy:\\n {np.linalg.det(np.array(A)):.0f}')"
   ]
  },
  {
   "cell_type": "code",
   "execution_count": null,
   "metadata": {},
   "outputs": [],
   "source": []
  }
 ],
 "metadata": {
  "kernelspec": {
   "display_name": "Python 3",
   "language": "python",
   "name": "python3"
  },
  "language_info": {
   "codemirror_mode": {
    "name": "ipython",
    "version": 3
   },
   "file_extension": ".py",
   "mimetype": "text/x-python",
   "name": "python",
   "nbconvert_exporter": "python",
   "pygments_lexer": "ipython3",
   "version": "3.7.3"
  }
 },
 "nbformat": 4,
 "nbformat_minor": 2
}
