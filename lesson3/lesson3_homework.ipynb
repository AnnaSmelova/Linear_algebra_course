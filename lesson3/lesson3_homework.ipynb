{
 "cells": [
  {
   "cell_type": "markdown",
   "metadata": {},
   "source": [
    "**Автор: Анна Смелова**"
   ]
  },
  {
   "cell_type": "code",
   "execution_count": 1,
   "metadata": {},
   "outputs": [],
   "source": [
    "import numpy as np"
   ]
  },
  {
   "cell_type": "markdown",
   "metadata": {},
   "source": [
    "## Решение домашнего задания к уроку 5 “Линейные преобразования”"
   ]
  },
  {
   "cell_type": "markdown",
   "metadata": {},
   "source": [
    "### 1. Задача\n",
    "#### Найти собственные векторы и собственные значения для линейного оператора, заданного матрицей\n",
    "\n",
    "$$A=\\begin{pmatrix}\n",
    "-1 & -6\\\\ \n",
    "2 & 6\n",
    "\\end{pmatrix}.$$"
   ]
  },
  {
   "cell_type": "markdown",
   "metadata": {},
   "source": [
    "**<font color='darkblue'>Решение:</font>**<br>\n",
    "$A=\\begin{pmatrix}\n",
    "-1 & -6\\\\ \n",
    "2 & 6\n",
    "\\end{pmatrix}$<br>\n",
    "Характеристическое уравнение: $\\begin{vmatrix}\n",
    "-1-\\lambda & -6\\\\ \n",
    "2 & 6-\\lambda\n",
    "\\end{vmatrix}=0 \\Leftrightarrow (\\lambda+1)(\\lambda-6)+12=0 \\Leftrightarrow \\lambda^2-5\\lambda-6+12=0 \\Leftrightarrow \\lambda(\\lambda-2)-3(\\lambda-2)=0 \\Leftrightarrow (\\lambda-2)(\\lambda-3)=0 \\Leftrightarrow \\begin{cases}\n",
    "\\lambda_1=2, \\\\\n",
    "\\lambda_2=3.\n",
    "\\end{cases}$<br>\n",
    "Получили собственные значения, равные 2 и 3.<br>\n",
    "Найдем собственные векторы: $\\textbf{A}x=\\lambda x$<br>\n",
    "$\\begin{pmatrix}\n",
    "-1 & -6\\\\ \n",
    "2 & 6\n",
    "\\end{pmatrix}\n",
    "\\begin{pmatrix}\n",
    "x_{1}\\\\ \n",
    "x_{2}\n",
    "\\end{pmatrix}=\n",
    "\\lambda\n",
    "\\begin{pmatrix}\n",
    "x_{1}\\\\ \n",
    "x_{2}\n",
    "\\end{pmatrix}$<br>\n",
    "Для $\\lambda_1=2$:<br>\n",
    "$\\begin{pmatrix}\n",
    "-1 & -6\\\\ \n",
    "2 & 6\n",
    "\\end{pmatrix}\n",
    "\\begin{pmatrix}\n",
    "x_{1}\\\\ \n",
    "x_{2}\n",
    "\\end{pmatrix}=\n",
    "2\n",
    "\\begin{pmatrix}\n",
    "x_{1}\\\\ \n",
    "x_{2}\n",
    "\\end{pmatrix} \\Leftrightarrow \\begin{cases}\n",
    "-x_1-6x_2=2x_1, \\\\\n",
    "2x_1+6x_2=2x_2.\n",
    "\\end{cases} \\Leftrightarrow \\begin{cases}\n",
    "x_1=-2x_1, \\\\\n",
    "0=0.\n",
    "\\end{cases} \\Leftrightarrow \\begin{cases}\n",
    "x_1=2a, \\\\\n",
    "x_2=-a, \\forall{a}\n",
    "\\end{cases} \\Rightarrow x=\\begin{pmatrix}\n",
    "2a\\\\ \n",
    "-a\n",
    "\\end{pmatrix}$<br>\n",
    "Для $\\lambda_1=3$:<br>\n",
    "$\\begin{pmatrix}\n",
    "-1 & -6\\\\ \n",
    "2 & 6\n",
    "\\end{pmatrix}\n",
    "\\begin{pmatrix}\n",
    "x_{1}\\\\ \n",
    "x_{2}\n",
    "\\end{pmatrix}=\n",
    "3\n",
    "\\begin{pmatrix}\n",
    "x_{1}\\\\ \n",
    "x_{2}\n",
    "\\end{pmatrix}  \\Leftrightarrow \\begin{cases}\n",
    "-x_1-6x_2=3x_1, \\\\\n",
    "2x_1+6x_2=3x_2.\n",
    "\\end{cases} \\Leftrightarrow \\begin{cases}\n",
    "x_1=-\\frac{3}{2}x_1, \\\\\n",
    "0=0.\n",
    "\\end{cases} \\Leftrightarrow \\begin{cases}\n",
    "x_1=3b, \\\\\n",
    "x_2=-2b, \\forall{b}\n",
    "\\end{cases} \\Rightarrow x=\\begin{pmatrix}\n",
    "3b\\\\ \n",
    "-2b\n",
    "\\end{pmatrix}$<br><br>\n",
    "Получили два собственных значения:<br>$\\lambda_1=2$, ему соответствует множество собственных векторов $x_1=\\begin{pmatrix}\n",
    "2a\\\\ \n",
    "-a\n",
    "\\end{pmatrix}$, где $a$-любое число<br> и $\\lambda_2=3$, ему соответствует множество собственных векторов $x_2=\\begin{pmatrix}\n",
    "3b\\\\ \n",
    "-2b\n",
    "\\end{pmatrix}$, где $b$-любое число."
   ]
  },
  {
   "cell_type": "code",
   "execution_count": 2,
   "metadata": {},
   "outputs": [
    {
     "name": "stdout",
     "output_type": "stream",
     "text": [
      "Матрица A:\n",
      "[[-1 -6]\n",
      " [ 2  6]]\n",
      "Собственные значения:\n",
      "[2. 3.]\n",
      "Собственные векторы:\n",
      "[[-0.89442719  0.83205029]\n",
      " [ 0.4472136  -0.5547002 ]]\n"
     ]
    }
   ],
   "source": [
    "a = np.array([[-1, -6], [2, 6]])\n",
    "w, v = np.linalg.eig(a)\n",
    "\n",
    "print(f'Матрица A:\\n{a}')\n",
    "print(f'Собственные значения:\\n{w}')\n",
    "print(f'Собственные векторы:\\n{v}')"
   ]
  },
  {
   "cell_type": "markdown",
   "metadata": {},
   "source": [
    "### 2. Задача\n",
    "#### Дан оператор поворота на 180 градусов, задаваемый матрицей \n",
    "\n",
    "$$A=\\begin{pmatrix}\n",
    "-1 & 0\\\\ \n",
    "0 & -1\n",
    "\\end{pmatrix}.$$\n",
    "\n",
    "#### Показать, что любой вектор является для него собственным."
   ]
  },
  {
   "cell_type": "markdown",
   "metadata": {},
   "source": [
    "**<font color='darkblue'>Решение:</font>**<br>\n",
    "$A=\\begin{pmatrix}\n",
    "-1 & 0\\\\ \n",
    "0 & -1\n",
    "\\end{pmatrix}$<br>\n",
    "Возьмем вектор $x=\\begin{pmatrix}\n",
    "a\\\\ \n",
    "b\n",
    "\\end{pmatrix}$ и посмотрим, как его преобразует данный оператор:<br>\n",
    "$\\textbf{A}x=\\begin{pmatrix}\n",
    "-1 & 0\\\\ \n",
    "0 & -1\n",
    "\\end{pmatrix}\\begin{pmatrix}\n",
    "a\\\\ \n",
    "b\n",
    "\\end{pmatrix} = \\begin{pmatrix}\n",
    "-1\\cdot a+0\\cdot b\\\\ \n",
    "0\\cdot a-1\\cdot b\n",
    "\\end{pmatrix} = \\begin{pmatrix}\n",
    "-a\\\\ \n",
    "-b\n",
    "\\end{pmatrix} = (-1)\\begin{pmatrix}\n",
    "a\\\\ \n",
    "b\n",
    "\\end{pmatrix} = -x$<br>\n",
    "Получили, что произвольно взятый вектор $x=\\begin{pmatrix}\n",
    "a\\\\ \n",
    "b\n",
    "\\end{pmatrix}$ является собственным вектором данного поворота, заданного матрицей  𝐴, соответствующий собственному значению $\\lambda=-1$."
   ]
  },
  {
   "cell_type": "markdown",
   "metadata": {},
   "source": [
    "### 3. Задача\n",
    "#### Пусть линейный оператор задан матрицей\n",
    "\n",
    "$$A=\\begin{pmatrix}\n",
    "1 & 1\\\\ \n",
    "-1 & 3\n",
    "\\end{pmatrix}.$$\n",
    "\n",
    "#### Установить, является ли вектор $x=(1,1)$ собственным вектором этого линейного оператора."
   ]
  },
  {
   "cell_type": "markdown",
   "metadata": {},
   "source": [
    "**<font color='darkblue'>Решение:</font>**<br>\n",
    "$\\textbf{A}x=\\begin{pmatrix}\n",
    "1 & 1\\\\ \n",
    "-1 & 3\n",
    "\\end{pmatrix}\\begin{pmatrix}\n",
    "1\\\\ \n",
    "1\n",
    "\\end{pmatrix} = \\begin{pmatrix}\n",
    "1+1\\\\ \n",
    "-1+3\n",
    "\\end{pmatrix} = \\begin{pmatrix}\n",
    "2\\\\ \n",
    "2\n",
    "\\end{pmatrix} = 2\\begin{pmatrix}\n",
    "1\\\\ \n",
    "1\n",
    "\\end{pmatrix} = 2x$<br>\n",
    "Вектор $x=\\begin{pmatrix}\n",
    "1\\\\ \n",
    "1\n",
    "\\end{pmatrix}$ является собственным вектором оператора, заданного матрицей  𝐴, соответствующий собственному значению $\\lambda=2$."
   ]
  },
  {
   "cell_type": "markdown",
   "metadata": {},
   "source": [
    "### 4. Задача\n",
    "#### Пусть линейный оператор задан матрицей\n",
    "\n",
    "$$A=\\begin{pmatrix}\n",
    "0 & 3 & 0\\\\ \n",
    "3 & 0 & 0\\\\\n",
    "0 & 0 & 3\n",
    "\\end{pmatrix}.$$\n",
    "\n",
    "#### Установить, является ли вектор $x=(3, -3, -4)$ собственным вектором этого линейного оператора."
   ]
  },
  {
   "cell_type": "markdown",
   "metadata": {},
   "source": [
    "**<font color='darkblue'>Решение:</font>**<br>\n",
    "$\\textbf{A}x=\\begin{pmatrix}\n",
    "0 & 3 & 0\\\\ \n",
    "3 & 0 & 0\\\\\n",
    "0 & 0 & 3\n",
    "\\end{pmatrix}\\begin{pmatrix}\n",
    "3\\\\ \n",
    "-3\\\\\n",
    "-4\n",
    "\\end{pmatrix} = \\begin{pmatrix}\n",
    "-9\\\\ \n",
    "9\\\\\n",
    "-12\n",
    "\\end{pmatrix} = -3\\begin{pmatrix}\n",
    "3\\\\ \n",
    "-3\\\\\n",
    "4\n",
    "\\end{pmatrix} \\neq \\lambda x$.<br>\n",
    "Следовательно, вектор $x=\\begin{pmatrix}\n",
    "3\\\\ \n",
    "-3\\\\\n",
    "-4\n",
    "\\end{pmatrix}$ не является собственным вектором оператора, заданного матрицей 𝐴."
   ]
  }
 ],
 "metadata": {
  "kernelspec": {
   "display_name": "Python 3",
   "language": "python",
   "name": "python3"
  },
  "language_info": {
   "codemirror_mode": {
    "name": "ipython",
    "version": 3
   },
   "file_extension": ".py",
   "mimetype": "text/x-python",
   "name": "python",
   "nbconvert_exporter": "python",
   "pygments_lexer": "ipython3",
   "version": "3.7.3"
  }
 },
 "nbformat": 4,
 "nbformat_minor": 2
}
