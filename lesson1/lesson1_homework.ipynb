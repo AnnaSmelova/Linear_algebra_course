{
 "cells": [
  {
   "cell_type": "markdown",
   "metadata": {},
   "source": [
    "**Автор: Анна Смелова**"
   ]
  },
  {
   "cell_type": "markdown",
   "metadata": {},
   "source": [
    "## Решение домашнего задания к уроку 1 “Линейное пространство. Основные понятия. Часть 1”"
   ]
  },
  {
   "cell_type": "markdown",
   "metadata": {},
   "source": [
    "### 1. Задача\n",
    "#### Исследовать на линейную зависимость:\n",
    "$$f_{1}(x)=e^{x}, f_{2}(x)=1, f_{3}(x)=x+1, f_{4}(x)=x-e^{x}.$$"
   ]
  },
  {
   "cell_type": "markdown",
   "metadata": {},
   "source": [
    "**<font color='darkblue'>Решение:</font>**<br>\n",
    "$\\alpha_1e^x+\\alpha_2+\\alpha_3(x+1)+\\alpha_4(x- e^x)=0$<br>\n",
    "$e^x(\\alpha_1-\\alpha_4)+x(\\alpha_3+\\alpha_4)+(\\alpha_2+\\alpha_3)=0$<br>\n",
    "$\\begin{cases}\n",
    " \\alpha_1-\\alpha_4=0,\\\\\n",
    " \\alpha_3+\\alpha_4=0,\\\\\n",
    " \\alpha_2+\\alpha_3=0,\n",
    "\\end{cases}\n",
    "\\Rightarrow\n",
    "\\begin{cases}\n",
    " \\alpha_1=\\alpha_4,\\\\\n",
    " \\alpha_3=-\\alpha_4=0,\\\\\n",
    " \\alpha_2=\\alpha_4=0,\n",
    "\\end{cases}$<br>\n",
    "Пусть $\\alpha_4=1$, тогда $\\alpha_1=\\alpha_2=1, \\alpha_3=-1$.<br>\n",
    "$f_1(x)+f_2(x)-f_3(x)+f_4(x)=0 \\Rightarrow$ векторы линейно зависимы."
   ]
  },
  {
   "cell_type": "markdown",
   "metadata": {},
   "source": [
    "**<font color='darkblue'>Ответ: линейно зависимы.</font>**"
   ]
  },
  {
   "cell_type": "markdown",
   "metadata": {},
   "source": [
    "### 2. Задача\n",
    "#### Исследовать на линейную зависимость:\n",
    "$$f_{1}(x)=2, f_{2}(x)=x, f_{3}(x)=x^{2}, f_{4}(x)=(x+1)^{2}.$$"
   ]
  },
  {
   "cell_type": "markdown",
   "metadata": {},
   "source": [
    "**<font color='darkblue'>Решение:</font>**<br>\n",
    "$2\\alpha_1+\\alpha_2x+\\alpha_3x^2+\\alpha_4(x+1)^2=0$<br>\n",
    "$2\\alpha_1+\\alpha_2x+\\alpha_3x^2+\\alpha_4x^2+2\\alpha_4x+\\alpha_4=0$<br>\n",
    "$(2\\alpha_1+\\alpha_4)+x(\\alpha_2+2\\alpha_4)+x^2(\\alpha_3+\\alpha_4)=0$<br>\n",
    "$\\begin{cases}\n",
    " 2\\alpha_1+\\alpha_4=0,\\\\\n",
    " \\alpha_2+2\\alpha_4=0,\\\\\n",
    " \\alpha_3+\\alpha_4=0,\n",
    "\\end{cases}\n",
    "\\Rightarrow\n",
    "\\begin{cases}\n",
    " \\alpha_4=2\\alpha_1,\\\\\n",
    " \\alpha_3=-2\\alpha_1=0,\\\\\n",
    " \\alpha_2=-4\\alpha_1=0,\n",
    "\\end{cases}$<br>\n",
    "Пусть $\\alpha_1=1$, тогда $\\alpha_2=-4, \\alpha_3=-2, \\alpha_4=2$.<br>\n",
    "$f_1(x)-4f_2(x)-2f_3(x)+2f_4(x)=0 \\Rightarrow$ векторы линейно зависимы."
   ]
  },
  {
   "cell_type": "markdown",
   "metadata": {},
   "source": [
    "**<font color='darkblue'>Ответ: линейно зависимы.</font>**"
   ]
  },
  {
   "cell_type": "markdown",
   "metadata": {},
   "source": [
    "### 3. Задача\n",
    "#### Найти координаты вектора $x = (2, 3, 5)\\in \\mathbb{R}^{3}$ в базисе $b_{1}=(0, 0, 10)$, $b_{2}=(2, 0, 0)$, $b_{3}=(0, 1, 0)$."
   ]
  },
  {
   "cell_type": "markdown",
   "metadata": {},
   "source": [
    "**<font color='darkblue'>Решение:</font>**<br>\n",
    "$x=(2,3,5)=2\\frac{b_2}{2}+3b_3+5\\frac{b_1}{10}=b_2+3b_3+\\frac{1}{2}b_1$"
   ]
  },
  {
   "cell_type": "markdown",
   "metadata": {},
   "source": [
    "**<font color='darkblue'>Ответ: $x=(\\frac{1}{2},1,3)$.</font>**"
   ]
  },
  {
   "cell_type": "markdown",
   "metadata": {},
   "source": [
    "### 4. Задача\n",
    "#### Найти координаты вектора $3x^{2}-2x+2\\in\\mathbb{R}^{3}[x]$:\n",
    "\n",
    "   а) в базисе $1$, $x$, $x^{2}$;\n",
    "\n",
    "   б) в базисе $x^{2}$, $x-1$, $1$."
   ]
  },
  {
   "cell_type": "markdown",
   "metadata": {},
   "source": [
    "**<font color='darkblue'>Решение:</font>**<br>\n",
    "а) базис $b_1=1, b_2=x, b_3=x^2$<br>\n",
    "$3x^2-2x+2=3b_3-2b_2+2b_1 \\Rightarrow$ координаты вектора $(2,-2,3)$<br><br>\n",
    "б) базис $b_1=x^2, b_2=x-1, b_3=1$<br>\n",
    "$3x^2-2x+2=3b_1-2b_2+4b_3 \\Rightarrow$ координаты вектора $(3,-2,4)$"
   ]
  },
  {
   "cell_type": "markdown",
   "metadata": {},
   "source": [
    "**<font color='darkblue'>Ответ: а) $(2,-2,3)$, б) $(3,-2,4)$.</font>**"
   ]
  },
  {
   "cell_type": "markdown",
   "metadata": {},
   "source": [
    "### 5. Задача\n",
    "#### Установить, является ли линейным подпространством:\n",
    "\n",
    "а) совокупность всех векторов трехмерного пространства, у которых по крайней мере одна из первых двух координат равна нулю;\n",
    "    \n",
    "б) все векторы, являющиеся линейными комбинациями данных векторов $\\{u_{1}, u_{2}, ..., u_{n}\\}$."
   ]
  },
  {
   "cell_type": "markdown",
   "metadata": {},
   "source": [
    "**<font color='darkblue'>Решение:</font>**<br>\n",
    "Подмножество $L$ линейного пространства $V$ является его подпространством тогда и только тогда, когда для любых элементов $u, v\\in L$ и любого $\\alpha \\in \\mathbb{R}$ выполняются условия:\n",
    "$$1)\\ u+v\\in L;$$\n",
    "$$2)\\ \\alpha\\cdot u \\in L.$$\n",
    "<br>\n",
    "а) Пусть $u=(0,a,b); v=(c,0,d); a,b,c,d\\neq0$<br>\n",
    "Тогда:<br>\n",
    "1. $u+v=(c,a,b+d) \\notin L$\n",
    "2. $\\alpha\\cdot u=(0,\\alpha a,\\alpha b) \\in L; \\alpha\\cdot v=(\\alpha c,0,\\alpha d) \\in L$<br>\n",
    "Так как первый пункт не выполняется, то совокупность всех векторов трехмерного пространства, у которых по крайней мере одна из первых двух координат равна нулю не является линейным подпространством.<br><br>\n",
    "\n",
    "б) все векторы, являющиеся линейными комбинациями данных векторов $\\{u_{1}, u_{2}, ..., u_{n}\\}$ будет являться линейным подпространством, так как линейная комбинация линейных комбинаций(а пункты 1) $u+v$ и 2) $\\alpha u$ - линейные комбинации) будет линейной комбинацией исходных векторов, то есть будет лежать в данном пространстве. "
   ]
  },
  {
   "cell_type": "markdown",
   "metadata": {},
   "source": [
    "**<font color='darkblue'>Ответ: а) не является, б) является.</font>**"
   ]
  },
  {
   "cell_type": "markdown",
   "metadata": {},
   "source": [
    "## Решение домашнего задания к уроку 2 “Линейное пространство. Основные понятия. Часть 2”"
   ]
  },
  {
   "cell_type": "code",
   "execution_count": 1,
   "metadata": {},
   "outputs": [],
   "source": [
    "import numpy as np\n",
    "from numpy.linalg import norm"
   ]
  },
  {
   "cell_type": "markdown",
   "metadata": {},
   "source": [
    "### 1. Задача\n",
    "#### Найти скалярное произведение векторов $x, y \\in \\mathbb{R}$:<br>\n",
    "а) $x=(0,-3, 6),~y=(-4, 7, 9);$<br>\n",
    "б) $x=(7, -4, 0, 1),~y=(-3, 1, 11, 2).$"
   ]
  },
  {
   "cell_type": "markdown",
   "metadata": {},
   "source": [
    "**<font color='darkblue'>Решение:</font>**<br>\n",
    "а) $(x,y)=0\\cdot(-4)+(-3)\\cdot7+6\\cdot9=33$<br>\n",
    "б) $(x,y)=7\\cdot(-3)+(-4)\\cdot1+0\\cdot11+1\\cdot2=-23$"
   ]
  },
  {
   "cell_type": "code",
   "execution_count": 2,
   "metadata": {},
   "outputs": [
    {
     "name": "stdout",
     "output_type": "stream",
     "text": [
      "Скалярное произведение пункта а:33\n",
      "Скалярное произведение пункта б:-23\n"
     ]
    }
   ],
   "source": [
    "print(f'Скалярное произведение пункта а:{np.dot(np.array([0, -3, 6]), np.array([-4, 7, 9]))}')\n",
    "print(f'Скалярное произведение пункта б:{np.dot(np.array([7, -4, 0, 1]), np.array([-3, 1, 11, 2]))}')"
   ]
  },
  {
   "cell_type": "markdown",
   "metadata": {},
   "source": [
    "**<font color='darkblue'>Ответ: а) $33$, б) $-23$.</font>**"
   ]
  },
  {
   "cell_type": "markdown",
   "metadata": {},
   "source": [
    "### 2. Задача\n",
    "#### Найти нормы векторов $(4, 2, 4)$ и $(12, 3, 4)$ и угол между ними."
   ]
  },
  {
   "cell_type": "markdown",
   "metadata": {},
   "source": [
    "**<font color='darkblue'>Решение:</font>**<br>\n",
    "$a=(4,2,4)$<br>\n",
    "$\\left\\|a\\right\\|_{1} = \\sum_{i}|x_{i}| = |4|+|2|+|4| = 10$ - манхэттенская норма<br>\n",
    "$\\left\\|a\\right\\|_{2} = \\sqrt{\\sum_{i}|x_{i}|^{2}} = \\sqrt{|4|^2+|2|^2+|4|^2} = \\sqrt{16+4+16} = \\sqrt{36} = 6$ - евклидова норма<br><br>\n",
    "$b=(12,3,4)$<br>\n",
    "$\\left\\|b\\right\\|_{1} = \\sum_{i}|x_{i}| = |12|+|3|+|4| = 19$ - манхэттенская норма<br>\n",
    "$\\left\\|b\\right\\|_{2} = \\sqrt{\\sum_{i}|x_{i}|^{2}} = \\sqrt{|12|^2+|3|^2+|4|^2} = \\sqrt{144+9+16} = \\sqrt{169} = 13$ - евклидова норма"
   ]
  },
  {
   "cell_type": "code",
   "execution_count": 3,
   "metadata": {},
   "outputs": [
    {
     "name": "stdout",
     "output_type": "stream",
     "text": [
      "манхэттенская норма(l1) вектора a:10.0\n",
      "евклидова норма(l2) вектора a:6.0\n",
      "манхэттенская норма(l1) вектора b:19.0\n",
      "евклидова норма(l2) вектора b:13.0\n"
     ]
    }
   ],
   "source": [
    "a = np.array([4, 2, 4])\n",
    "print(f'манхэттенская норма(l1) вектора a:{norm(a, ord=1)}')\n",
    "print(f'евклидова норма(l2) вектора a:{norm(a, ord=2)}')\n",
    "b = np.array([12, 3, 4])\n",
    "print(f'манхэттенская норма(l1) вектора b:{norm(b, ord=1)}')\n",
    "print(f'евклидова норма(l2) вектора b:{norm(b, ord=2)}')"
   ]
  },
  {
   "cell_type": "markdown",
   "metadata": {},
   "source": [
    "**<font color='darkblue'>Ответ: а) $10$ и $6$, б) $19$ и $13$.</font>**"
   ]
  },
  {
   "cell_type": "markdown",
   "metadata": {},
   "source": [
    "### 3. Задача\n",
    "#### Будет ли линейное пространство евклидовым, если за скалярное произведение принять:<br>\n",
    "а) произведение длин векторов;<br>\n",
    "б) утроенное обычное скалярное произведение векторов?"
   ]
  },
  {
   "cell_type": "markdown",
   "metadata": {},
   "source": [
    "**<font color='darkblue'>Решение:</font>**<br>\n",
    "Линейное пространство над полем вещественных чисел называется евклидовым пространством, если на нем введено правило, согласно которому каждой упорядоченной паре векторов $x$ и $y$ поставлено в соответствие вещественное число, называемое скалярным произведением и обозначаемое символом $(x, y)$.\n",
    "\n",
    "При этом указанное правило должно подчиняться четырем аксиомам:<br>\n",
    "1) $(x,y)=(y,x);$<br>\n",
    "2) $(\\lambda x, y)=\\lambda(x, y);$<br>\n",
    "3) $(x_{1}+x_{2},y)=(x_{1},y)+(x_{2},y);$<br>\n",
    "4) $(x, x)\\geq0$, причем $(x,x)=0\\Leftrightarrow x=0.$"
   ]
  },
  {
   "cell_type": "markdown",
   "metadata": {},
   "source": [
    "а) $\\overline{u}=(x,y), \\overline{v}=(a,b)$<br>\n",
    "$u=\\sqrt{x^2+y^2}, v=\\sqrt{a^2+b^2}$, тогда: $(\\overline{u},\\overline{v})=u\\cdot v$<br>\n",
    "1) $(\\overline{u},\\overline{v})=\\sqrt{x^2+y^2}\\cdot\\sqrt{a^2+b^2}=\\sqrt{a^2+b^2}\\cdot\\sqrt{x^2+y^2}=(\\overline{v},\\overline{u})$ - выполнено<br>\n",
    "2) $(\\lambda \\overline{u},\\overline{v})=\\lambda\\sqrt{x^2+y^2}\\cdot\\sqrt{x^2+y^2}=\\lambda(\\overline{u},\\overline{v})$ - выполнено<br>\n",
    "3) $\\overline{u_1}+\\overline{u_2}=(x_1+x_2,y_1+y_2);u_1+u_2=\\sqrt{(x_1+x_2)^2+(y_1+y_2)^2}$<br>\n",
    "$(\\overline{u_1}+\\overline{u_2},\\overline{v})=\\sqrt{(x_1+x_2)^2+(y_1+y_2)^2}\\cdot\\sqrt{a^2+b^2}$<br>\n",
    "$(\\overline{u_1},\\overline{v})=\\sqrt{x_1^2+y_1^2}\\cdot\\sqrt{a^2+b^2}$<br>\n",
    "$(\\overline{u_2},\\overline{v})=\\sqrt{x_2^2+y_2^2}\\cdot\\sqrt{a^2+b^2}$<br>\n",
    "$\\sqrt{(x_1+x_2)^2+(y_1+y_2)^2} \\neq \\sqrt{x_1^2+y_1^2} + \\sqrt{x_2^2+y_2^2} \\Rightarrow (\\overline{u_1}+\\overline{u_2},\\overline{v})=(\\overline{u_1},\\overline{v})+(\\overline{u_2},\\overline{v})$ - не выполнено<br>\n",
    "$\\Rightarrow$ если за скалярное произведение принять произведение длин векторов, то линейное пространство не будет евклидовым.<br><br>\n",
    "б) $\\overline{u}=(x,y), \\overline{v}=(a,b)$<br>\n",
    "$(\\overline{u},\\overline{v})=3(x\\cdot a+y \\cdot b)$<br>\n",
    "1) $(\\overline{u},\\overline{v}) = 3(x\\cdot a+y \\cdot b) = 3(a\\cdot x + b\\cdot y) = (\\overline{v},\\overline{u})$ - выполнено<br>\n",
    "2) $(\\lambda \\overline{u},\\overline{v})=3(\\lambda\\cdot x\\cdot a+\\lambda \\cdot y \\cdot b) = 3\\lambda(x\\cdot a+y\\cdot b) = \\lambda(\\overline{u},\\overline{v})$ - выполнено<br>\n",
    "3) $\\overline{u_1}+\\overline{u_2}=(x_1+x_2,y_1+y_2)$<br>\n",
    "$(\\overline{u_1}+\\overline{u_2},\\overline{v})=3((x_1+x_2)\\cdot a+(y_1+y_2)\\cdot b)=3(x_1 \\cdot a + x_2 \\cdot a + y_1 \\cdot b+y_2 \\cdot b)=3(x_1\\cdot a+y_1\\cdot b)+3(x_2\\cdot a+y_2\\cdot b)=(\\overline{u_1},\\overline{v})+(\\overline{u_2},\\overline{v})$ - выполнено<br>\n",
    "4) $(\\overline{u},\\overline{u})=3(x\\cdot x+ y\\cdot y)=3(x^2+y^2)>0;3(x^2+y^2)=0 \\Leftrightarrow x=y=0 \\Leftrightarrow \\overline{u}=0$ - выполнено<br>\n",
    "$\\Rightarrow$ если за скалярное произведение принять утроенное обычное скалярное произведение векторов, то линейное пространство будет евклидовым."
   ]
  },
  {
   "cell_type": "markdown",
   "metadata": {},
   "source": [
    "**<font color='darkblue'>Ответ: а) не будет, б) будет.</font>**"
   ]
  },
  {
   "cell_type": "markdown",
   "metadata": {},
   "source": [
    "### 4. Задача\n",
    "#### Какие из нижеперечисленных векторов образуют ортонормированный базис в линейном пространстве $\\mathbb{R}^{3}$:<br>\n",
    "а) $(1,0,0),(0,0,1);$ <br>\n",
    "б) $(1/\\sqrt{2},-1/\\sqrt{2},0),(1/\\sqrt{2},1/\\sqrt{2},0), (0,0,1);$<br>\n",
    "в) $(1/2, -1/2, 0), (0, 1/2, 1/2), (0,0,1);$<br>\n",
    "г) $(1,0,0),(0,1,0),(0,0,1)?$ "
   ]
  },
  {
   "cell_type": "markdown",
   "metadata": {},
   "source": [
    "**<font color='darkblue'>Решение:</font>**<br>\n",
    "__Определение.__ В конечномерном евклидовом пространстве базис $\\{e_{1},e_{2},...,e_{n}\\}$ называется ортонормированным, если \n",
    "\n",
    "$(e_{i}, e_{j})=0$ $\\forall$ $i\\neq j$ и $(e_{i},e_{i})=1$ $\\forall$ $i\\in[1, n].$<br><br>\n",
    "а) $e_1=(1,0,0), e_2=(0,0,1)$<br>\n",
    "$(e_1,e_1)=1+0+0=1;(e_2,e_2)=0+0+1=1$<br>\n",
    "$(e_1,e_2)=0+0+0=0 \\Rightarrow$ базис ортонормированный<br><br>\n",
    "б) $e_1=(\\frac{1}{\\sqrt{2}},-\\frac{1}{\\sqrt{2}},0), e_2=(\\frac{1}{\\sqrt{2}},\\frac{1}{\\sqrt{2}},0), e_3=(0,0,1)$<br>\n",
    "$(e_1,e_1)=\\frac{1}{2}+\\frac{1}{2}+0=1; (e_2,e_2)=\\frac{1}{2}+\\frac{1}{2}+0=1; (e_3,e_3)=0+0+1=1$<br>\n",
    "$(e_1,e_2)=\\frac{1}{2}-\\frac{1}{2}+0=0; (e_1,e_3)=0+0+0=0; (e_2,e_3)=0+0+0=0\\Rightarrow$ базис ортонормированный<br><br>\n",
    "в) $e_1=(\\frac{1}{2},-\\frac{1}{2},0), e_2=(0,\\frac{1}{2},\\frac{1}{2}),e_3=(0,0,1)$<br>\n",
    "$(e_1,e_1)=\\frac{1}{4}+\\frac{1}{4}+0=\\frac{1}{2}, (e_2,e_2)=0+\\frac{1}{4}+\\frac{1}{4}=\\frac{1}{2}, (e_3,e_3)=0+0+1=1\\Rightarrow$ базис не ортонормированный<br><br>\n",
    "г) $e_1=(1,0,0), e_2=(0,1,0), e_3=(0,0,1)$<br>\n",
    "$(e_1,e_1)=1+0+0=1;(e_2,e_2)=0+1+0=1; (e_3,e_3)=0+0+1$<br>\n",
    "$(e_1,e_2)=0+0+0; (e_1,e_3)=0+0+0; (e_2,e_3)=0+0+0\\Rightarrow$ базис ортонормированный"
   ]
  },
  {
   "cell_type": "markdown",
   "metadata": {},
   "source": [
    "**<font color='darkblue'>Ответ: а) ортонормированный, б) ортонормированный, в) не ортонормированный, г) ортонормированный.</font>**"
   ]
  },
  {
   "cell_type": "code",
   "execution_count": null,
   "metadata": {},
   "outputs": [],
   "source": []
  }
 ],
 "metadata": {
  "kernelspec": {
   "display_name": "Python 3",
   "language": "python",
   "name": "python3"
  },
  "language_info": {
   "codemirror_mode": {
    "name": "ipython",
    "version": 3
   },
   "file_extension": ".py",
   "mimetype": "text/x-python",
   "name": "python",
   "nbconvert_exporter": "python",
   "pygments_lexer": "ipython3",
   "version": "3.7.3"
  }
 },
 "nbformat": 4,
 "nbformat_minor": 2
}
